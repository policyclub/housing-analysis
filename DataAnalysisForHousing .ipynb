{
 "cells": [
  {
   "cell_type": "markdown",
   "metadata": {},
   "source": [
    "# AB 1568 Data Research \n",
    "\n",
    "- What happened to the money dedicated to CRAs, approximately $1.7b?\n",
    "- If EIFDs raised sales taxes how likely are eligible voters to support MORE taxes? (Stage whisper: how much more sales tax are folks willing to pay? L.A. Co. is at 9.75%) **Effect of Sales tax on growth/housing?** \n",
    "- How big are EIFD-eligible areas in the most affected counties. How many people need to sign up? \n",
    "- Percentage of counties eligible for EIFD \n",
    "- Estimate effects of rent on sample EIFD \n",
    "- Possible amount raised for highest EIFDS "
   ]
  },
  {
   "cell_type": "code",
   "execution_count": 142,
   "metadata": {
    "collapsed": false
   },
   "outputs": [
    {
     "data": {
      "text/html": [
       "\n",
       "    <div class=\"bk-root\">\n",
       "        <a href=\"http://bokeh.pydata.org\" target=\"_blank\" class=\"bk-logo bk-logo-small bk-logo-notebook\"></a>\n",
       "        <span id=\"14cddfe8-5747-4c1a-a209-cdb611169aa2\">Loading BokehJS ...</span>\n",
       "    </div>"
      ]
     },
     "metadata": {},
     "output_type": "display_data"
    },
    {
     "data": {
      "application/javascript": [
       "\n",
       "(function(global) {\n",
       "  function now() {\n",
       "    return new Date();\n",
       "  }\n",
       "\n",
       "  var force = \"1\";\n",
       "\n",
       "  if (typeof (window._bokeh_onload_callbacks) === \"undefined\" || force !== \"\") {\n",
       "    window._bokeh_onload_callbacks = [];\n",
       "    window._bokeh_is_loading = undefined;\n",
       "  }\n",
       "\n",
       "\n",
       "  \n",
       "  if (typeof (window._bokeh_timeout) === \"undefined\" || force !== \"\") {\n",
       "    window._bokeh_timeout = Date.now() + 5000;\n",
       "    window._bokeh_failed_load = false;\n",
       "  }\n",
       "\n",
       "  var NB_LOAD_WARNING = {'data': {'text/html':\n",
       "     \"<div style='background-color: #fdd'>\\n\"+\n",
       "     \"<p>\\n\"+\n",
       "     \"BokehJS does not appear to have successfully loaded. If loading BokehJS from CDN, this \\n\"+\n",
       "     \"may be due to a slow or bad network connection. Possible fixes:\\n\"+\n",
       "     \"</p>\\n\"+\n",
       "     \"<ul>\\n\"+\n",
       "     \"<li>re-rerun `output_notebook()` to attempt to load from CDN again, or</li>\\n\"+\n",
       "     \"<li>use INLINE resources instead, as so:</li>\\n\"+\n",
       "     \"</ul>\\n\"+\n",
       "     \"<code>\\n\"+\n",
       "     \"from bokeh.resources import INLINE\\n\"+\n",
       "     \"output_notebook(resources=INLINE)\\n\"+\n",
       "     \"</code>\\n\"+\n",
       "     \"</div>\"}};\n",
       "\n",
       "  function display_loaded() {\n",
       "    if (window.Bokeh !== undefined) {\n",
       "      Bokeh.$(\"#14cddfe8-5747-4c1a-a209-cdb611169aa2\").text(\"BokehJS successfully loaded.\");\n",
       "    } else if (Date.now() < window._bokeh_timeout) {\n",
       "      setTimeout(display_loaded, 100)\n",
       "    }\n",
       "  }\n",
       "\n",
       "  function run_callbacks() {\n",
       "    window._bokeh_onload_callbacks.forEach(function(callback) { callback() });\n",
       "    delete window._bokeh_onload_callbacks\n",
       "    console.info(\"Bokeh: all callbacks have finished\");\n",
       "  }\n",
       "\n",
       "  function load_libs(js_urls, callback) {\n",
       "    window._bokeh_onload_callbacks.push(callback);\n",
       "    if (window._bokeh_is_loading > 0) {\n",
       "      console.log(\"Bokeh: BokehJS is being loaded, scheduling callback at\", now());\n",
       "      return null;\n",
       "    }\n",
       "    if (js_urls == null || js_urls.length === 0) {\n",
       "      run_callbacks();\n",
       "      return null;\n",
       "    }\n",
       "    console.log(\"Bokeh: BokehJS not loaded, scheduling load and callback at\", now());\n",
       "    window._bokeh_is_loading = js_urls.length;\n",
       "    for (var i = 0; i < js_urls.length; i++) {\n",
       "      var url = js_urls[i];\n",
       "      var s = document.createElement('script');\n",
       "      s.src = url;\n",
       "      s.async = false;\n",
       "      s.onreadystatechange = s.onload = function() {\n",
       "        window._bokeh_is_loading--;\n",
       "        if (window._bokeh_is_loading === 0) {\n",
       "          console.log(\"Bokeh: all BokehJS libraries loaded\");\n",
       "          run_callbacks()\n",
       "        }\n",
       "      };\n",
       "      s.onerror = function() {\n",
       "        console.warn(\"failed to load library \" + url);\n",
       "      };\n",
       "      console.log(\"Bokeh: injecting script tag for BokehJS library: \", url);\n",
       "      document.getElementsByTagName(\"head\")[0].appendChild(s);\n",
       "    }\n",
       "  };var element = document.getElementById(\"14cddfe8-5747-4c1a-a209-cdb611169aa2\");\n",
       "  if (element == null) {\n",
       "    console.log(\"Bokeh: ERROR: autoload.js configured with elementid '14cddfe8-5747-4c1a-a209-cdb611169aa2' but no matching script tag was found. \")\n",
       "    return false;\n",
       "  }\n",
       "\n",
       "  var js_urls = ['https://cdn.pydata.org/bokeh/release/bokeh-0.12.2.min.js', 'https://cdn.pydata.org/bokeh/release/bokeh-widgets-0.12.2.min.js', 'https://cdn.pydata.org/bokeh/release/bokeh-compiler-0.12.2.min.js'];\n",
       "\n",
       "  var inline_js = [\n",
       "    function(Bokeh) {\n",
       "      Bokeh.set_log_level(\"info\");\n",
       "    },\n",
       "    \n",
       "    function(Bokeh) {\n",
       "      \n",
       "      Bokeh.$(\"#14cddfe8-5747-4c1a-a209-cdb611169aa2\").text(\"BokehJS is loading...\");\n",
       "    },\n",
       "    function(Bokeh) {\n",
       "      console.log(\"Bokeh: injecting CSS: https://cdn.pydata.org/bokeh/release/bokeh-0.12.2.min.css\");\n",
       "      Bokeh.embed.inject_css(\"https://cdn.pydata.org/bokeh/release/bokeh-0.12.2.min.css\");\n",
       "      console.log(\"Bokeh: injecting CSS: https://cdn.pydata.org/bokeh/release/bokeh-widgets-0.12.2.min.css\");\n",
       "      Bokeh.embed.inject_css(\"https://cdn.pydata.org/bokeh/release/bokeh-widgets-0.12.2.min.css\");\n",
       "    }\n",
       "  ];\n",
       "\n",
       "  function run_inline_js() {\n",
       "    \n",
       "    if ((window.Bokeh !== undefined) || (force === \"1\")) {\n",
       "      for (var i = 0; i < inline_js.length; i++) {\n",
       "        inline_js[i](window.Bokeh);\n",
       "      }if (force === \"1\") {\n",
       "        display_loaded();\n",
       "      }} else if (Date.now() < window._bokeh_timeout) {\n",
       "      setTimeout(run_inline_js, 100);\n",
       "    } else if (!window._bokeh_failed_load) {\n",
       "      console.log(\"Bokeh: BokehJS failed to load within specified timeout.\");\n",
       "      window._bokeh_failed_load = true;\n",
       "    } else if (!force) {\n",
       "      var cell = $(\"#14cddfe8-5747-4c1a-a209-cdb611169aa2\").parents('.cell').data().cell;\n",
       "      cell.output_area.append_execute_result(NB_LOAD_WARNING)\n",
       "    }\n",
       "\n",
       "  }\n",
       "\n",
       "  if (window._bokeh_is_loading === 0) {\n",
       "    console.log(\"Bokeh: BokehJS loaded, going straight to plotting\");\n",
       "    run_inline_js();\n",
       "  } else {\n",
       "    load_libs(js_urls, function() {\n",
       "      console.log(\"Bokeh: BokehJS plotting callback run at\", now());\n",
       "      run_inline_js();\n",
       "    });\n",
       "  }\n",
       "}(this));"
      ]
     },
     "metadata": {},
     "output_type": "display_data"
    }
   ],
   "source": [
    "import pandas as pd\n",
    "from bokeh.charts import Line, output_file, show\n",
    "from bokeh.io import output_notebook\n",
    "output_notebook()"
   ]
  },
  {
   "cell_type": "markdown",
   "metadata": {},
   "source": [
    "* EFID-elidblge are in SB 375 Infill locations. \n",
    "\n",
    "```html\n",
    "21061.3.  \"Infill site\" means a site in an urbanized area that\n",
    "meets either of the following criteria:\n",
    "   (a) The site has not been previously developed for urban uses and\n",
    "both of the following apply:\n",
    "       (1) The site is immediately adjacent to parcels that are developed\n",
    "with qualified urban uses, or at least 75 percent of the perimeter\n",
    "of the site adjoins parcels that are developed with qualified urban\n",
    "uses, and the remaining 25 percent of the site adjoins parcels that\n",
    "have previously been developed for qualified urban uses.\n",
    "       (2) No parcel within the site has been created within the past 10\n",
    "years unless the parcel was created as a result of the plan of a\n",
    "redevelopment agency.\n",
    "   (b) The site has been previously developed for qualified urban\n",
    "uses.\n",
    "```"
   ]
  },
  {
   "cell_type": "markdown",
   "metadata": {},
   "source": [
    "## Source Data\n",
    "* [Parcels](http://egis3.lacounty.gov/dataportal/2015/09/11/california-statewide-parcel-boundaries/)\n",
    "* [LA County Parcels](https://data.lacounty.gov/Parcel-/Assessor-Parcels-Data-2006-thru-2017/9trm-uz8i) "
   ]
  },
  {
   "cell_type": "code",
   "execution_count": 4,
   "metadata": {
    "collapsed": false
   },
   "outputs": [
    {
     "name": "stderr",
     "output_type": "stream",
     "text": [
      "/Users/hunterowens/anaconda3/lib/python3.5/site-packages/IPython/core/interactiveshell.py:2902: DtypeWarning: Columns (37) have mixed types. Specify dtype option on import or set low_memory=False.\n",
      "  interactivity=interactivity, compiler=compiler, result=result)\n"
     ]
    }
   ],
   "source": [
    "parcels_2016 = pd.read_csv('./data/2016_parcels.csv')"
   ]
  },
  {
   "cell_type": "code",
   "execution_count": 5,
   "metadata": {
    "collapsed": false
   },
   "outputs": [
    {
     "data": {
      "text/html": [
       "<div>\n",
       "<table border=\"1\" class=\"dataframe\">\n",
       "  <thead>\n",
       "    <tr style=\"text-align: right;\">\n",
       "      <th></th>\n",
       "      <th>ZIPcode</th>\n",
       "      <th>TaxRateArea_CITY</th>\n",
       "      <th>AIN</th>\n",
       "      <th>RollYear</th>\n",
       "      <th>TaxRateArea</th>\n",
       "      <th>AssessorID</th>\n",
       "      <th>PropertyLocation</th>\n",
       "      <th>PropertyType</th>\n",
       "      <th>PropertyUseCode</th>\n",
       "      <th>GeneralUseType</th>\n",
       "      <th>...</th>\n",
       "      <th>HouseFraction</th>\n",
       "      <th>StreetDirection</th>\n",
       "      <th>StreetName</th>\n",
       "      <th>UnitNo</th>\n",
       "      <th>City</th>\n",
       "      <th>ZIPcode5</th>\n",
       "      <th>rowID</th>\n",
       "      <th>CENTER_LAT</th>\n",
       "      <th>CENTER_LON</th>\n",
       "      <th>Location 1</th>\n",
       "    </tr>\n",
       "  </thead>\n",
       "  <tbody>\n",
       "    <tr>\n",
       "      <th>0</th>\n",
       "      <td></td>\n",
       "      <td>LOS ANGELES</td>\n",
       "      <td>2513002030</td>\n",
       "      <td>2016</td>\n",
       "      <td>16</td>\n",
       "      <td>2513-002-030</td>\n",
       "      <td>NaN</td>\n",
       "      <td>VAC</td>\n",
       "      <td>010V</td>\n",
       "      <td>Residential</td>\n",
       "      <td>...</td>\n",
       "      <td></td>\n",
       "      <td></td>\n",
       "      <td></td>\n",
       "      <td></td>\n",
       "      <td></td>\n",
       "      <td>NaN</td>\n",
       "      <td>20162513002030</td>\n",
       "      <td>34.303785</td>\n",
       "      <td>-118.431512</td>\n",
       "      <td>(34.30378543, -118.43151154)</td>\n",
       "    </tr>\n",
       "    <tr>\n",
       "      <th>1</th>\n",
       "      <td></td>\n",
       "      <td>BURBANK</td>\n",
       "      <td>2482012004</td>\n",
       "      <td>2016</td>\n",
       "      <td>2530</td>\n",
       "      <td>2482-012-004</td>\n",
       "      <td>NaN</td>\n",
       "      <td>VAC</td>\n",
       "      <td>010V</td>\n",
       "      <td>Residential</td>\n",
       "      <td>...</td>\n",
       "      <td></td>\n",
       "      <td></td>\n",
       "      <td></td>\n",
       "      <td></td>\n",
       "      <td></td>\n",
       "      <td>NaN</td>\n",
       "      <td>20162482012004</td>\n",
       "      <td>34.154597</td>\n",
       "      <td>-118.340920</td>\n",
       "      <td>(34.15459719, -118.34091962)</td>\n",
       "    </tr>\n",
       "    <tr>\n",
       "      <th>2</th>\n",
       "      <td></td>\n",
       "      <td>BURBANK</td>\n",
       "      <td>2485001014</td>\n",
       "      <td>2016</td>\n",
       "      <td>2530</td>\n",
       "      <td>2485-001-014</td>\n",
       "      <td>NaN</td>\n",
       "      <td>VAC</td>\n",
       "      <td>100V</td>\n",
       "      <td>Commercial</td>\n",
       "      <td>...</td>\n",
       "      <td></td>\n",
       "      <td></td>\n",
       "      <td></td>\n",
       "      <td></td>\n",
       "      <td></td>\n",
       "      <td>NaN</td>\n",
       "      <td>20162485001014</td>\n",
       "      <td>34.152521</td>\n",
       "      <td>-118.348560</td>\n",
       "      <td>(34.15252149, -118.34856035)</td>\n",
       "    </tr>\n",
       "    <tr>\n",
       "      <th>3</th>\n",
       "      <td></td>\n",
       "      <td>BURBANK</td>\n",
       "      <td>2485001015</td>\n",
       "      <td>2016</td>\n",
       "      <td>2530</td>\n",
       "      <td>2485-001-015</td>\n",
       "      <td>NaN</td>\n",
       "      <td>VAC</td>\n",
       "      <td>100V</td>\n",
       "      <td>Commercial</td>\n",
       "      <td>...</td>\n",
       "      <td></td>\n",
       "      <td></td>\n",
       "      <td></td>\n",
       "      <td></td>\n",
       "      <td></td>\n",
       "      <td>NaN</td>\n",
       "      <td>20162485001015</td>\n",
       "      <td>34.152521</td>\n",
       "      <td>-118.348439</td>\n",
       "      <td>(34.15252138, -118.34843850)</td>\n",
       "    </tr>\n",
       "    <tr>\n",
       "      <th>4</th>\n",
       "      <td></td>\n",
       "      <td>BURBANK</td>\n",
       "      <td>2485001016</td>\n",
       "      <td>2016</td>\n",
       "      <td>2530</td>\n",
       "      <td>2485-001-016</td>\n",
       "      <td>NaN</td>\n",
       "      <td>VAC</td>\n",
       "      <td>100V</td>\n",
       "      <td>Commercial</td>\n",
       "      <td>...</td>\n",
       "      <td></td>\n",
       "      <td></td>\n",
       "      <td></td>\n",
       "      <td></td>\n",
       "      <td></td>\n",
       "      <td>NaN</td>\n",
       "      <td>20162485001016</td>\n",
       "      <td>34.152522</td>\n",
       "      <td>-118.348274</td>\n",
       "      <td>(34.15252191, -118.34827448)</td>\n",
       "    </tr>\n",
       "  </tbody>\n",
       "</table>\n",
       "<p>5 rows × 51 columns</p>\n",
       "</div>"
      ],
      "text/plain": [
       "  ZIPcode TaxRateArea_CITY         AIN  RollYear  TaxRateArea    AssessorID  \\\n",
       "0              LOS ANGELES  2513002030      2016           16  2513-002-030   \n",
       "1              BURBANK      2482012004      2016         2530  2482-012-004   \n",
       "2              BURBANK      2485001014      2016         2530  2485-001-014   \n",
       "3              BURBANK      2485001015      2016         2530  2485-001-015   \n",
       "4              BURBANK      2485001016      2016         2530  2485-001-016   \n",
       "\n",
       "  PropertyLocation PropertyType PropertyUseCode GeneralUseType  \\\n",
       "0              NaN          VAC            010V    Residential   \n",
       "1              NaN          VAC            010V    Residential   \n",
       "2              NaN          VAC            100V     Commercial   \n",
       "3              NaN          VAC            100V     Commercial   \n",
       "4              NaN          VAC            100V     Commercial   \n",
       "\n",
       "               ...              HouseFraction StreetDirection StreetName  \\\n",
       "0              ...                                                         \n",
       "1              ...                                                         \n",
       "2              ...                                                         \n",
       "3              ...                                                         \n",
       "4              ...                                                         \n",
       "\n",
       "   UnitNo  City  ZIPcode5           rowID  CENTER_LAT  CENTER_LON  \\\n",
       "0                     NaN  20162513002030   34.303785 -118.431512   \n",
       "1                     NaN  20162482012004   34.154597 -118.340920   \n",
       "2                     NaN  20162485001014   34.152521 -118.348560   \n",
       "3                     NaN  20162485001015   34.152521 -118.348439   \n",
       "4                     NaN  20162485001016   34.152522 -118.348274   \n",
       "\n",
       "                     Location 1  \n",
       "0  (34.30378543, -118.43151154)  \n",
       "1  (34.15459719, -118.34091962)  \n",
       "2  (34.15252149, -118.34856035)  \n",
       "3  (34.15252138, -118.34843850)  \n",
       "4  (34.15252191, -118.34827448)  \n",
       "\n",
       "[5 rows x 51 columns]"
      ]
     },
     "execution_count": 5,
     "metadata": {},
     "output_type": "execute_result"
    }
   ],
   "source": [
    "parcels_2016.head()"
   ]
  },
  {
   "cell_type": "markdown",
   "metadata": {},
   "source": [
    "## Percent of LA Count EFID Qualified "
   ]
  },
  {
   "cell_type": "code",
   "execution_count": 6,
   "metadata": {
    "collapsed": false
   },
   "outputs": [
    {
     "data": {
      "text/plain": [
       "0       Residential\n",
       "1        Commercial\n",
       "2     Miscellaneous\n",
       "3        Industrial\n",
       "4     Institutional\n",
       "5      Recreational\n",
       "6          Dry Farm\n",
       "7    Irrigated Farm\n",
       "8         (missing)\n",
       "dtype: object"
      ]
     },
     "execution_count": 6,
     "metadata": {},
     "output_type": "execute_result"
    }
   ],
   "source": [
    "pd.Series(parcels_2016.GeneralUseType.unique())"
   ]
  },
  {
   "cell_type": "code",
   "execution_count": 7,
   "metadata": {
    "collapsed": true
   },
   "outputs": [],
   "source": [
    "parcels_2016['isUrban'] = parcels_2016.GeneralUseType.apply(lambda x: False if x == \"Dry Farm\" or x == \"Irrigated Farm\" else True)    "
   ]
  },
  {
   "cell_type": "code",
   "execution_count": 8,
   "metadata": {
    "collapsed": false
   },
   "outputs": [],
   "source": [
    "values = parcels_2016['isUrban'].value_counts()"
   ]
  },
  {
   "cell_type": "code",
   "execution_count": 12,
   "metadata": {
    "collapsed": false
   },
   "outputs": [],
   "source": [
    "percent_urban = round(((values[1] - values[0]) / parcels_2016['isUrban'].count()) * 100, 2)"
   ]
  },
  {
   "cell_type": "markdown",
   "metadata": {
    "variables": {
     "percent_urban": "95.640000000000001"
    }
   },
   "source": [
    "{{percent_urban}} of the parcels in Los Angeles are EIFD eligble. However, this doesn't mean that certain combination of parcels wouldn't disqualify it for infill development. "
   ]
  },
  {
   "cell_type": "markdown",
   "metadata": {},
   "source": [
    "## How Much Tax Revenue could a total EFID Generate\n",
    "\n",
    "We caculate the value of the increment via the below formula\n",
    " \n",
    "**value of the increment** = [(predicted sales tax gained from the properties + predicted use tax gained from the properties) - (current sales tax gained from the properties + current use tax gained from the properties)] * number of years the increment district is valid for over the properties\n",
    "\n",
    "\n",
    "* [2015-16 Property Tax Revenue for County](http://lacountyannualreport.com/budget/) - Property Taxes $5.682B\n",
    "* [Tax Data](https://www.boe.ca.gov/DataPortal/SUTDRevDistCityCounty.aspx) \n",
    "* \"Statewide property tax revenues are estimated to increase 5.9 percent in 2016‑17 and\n",
    "5.3 percent in 2017‑18\" - [State CAO estimates](http://www.ebudget.ca.gov/2017-18/pdf/BudgetSummary/RevenueEstimates.pdf) \n",
    "* \"Statewise Sales Tax Revenue increased 2.9%\" \n",
    "\n",
    "_Author's Note_: This work is missing some nuance. Notably, the growth curve and tax percentages aren't aligned with the EFID areas. Additionally, we do not subtract from the already allocated tax, ie Measure R & M in LA County, so this will be an overestimate. \n",
    "\n",
    "Additionally, the growth model is not fit at all. \n",
    "\n",
    "Finally, it assumes that we set the time of the Districts as 20 years starting in 2015, thanks to avaliable data. "
   ]
  },
  {
   "cell_type": "code",
   "execution_count": 13,
   "metadata": {
    "collapsed": true
   },
   "outputs": [],
   "source": [
    "tax_data = pd.read_csv('./data/SUTDRevDistCityCounty.csv')"
   ]
  },
  {
   "cell_type": "code",
   "execution_count": 58,
   "metadata": {
    "collapsed": false
   },
   "outputs": [],
   "source": [
    "## Filter LA County \n",
    "filter_county = tax_data.County == \"Los Angeles County\"\n",
    "filter_year = tax_data['Fiscal Year From'] == 2014\n",
    "\n",
    "la_taxes_2015 = tax_data[filter_year & filter_county]"
   ]
  },
  {
   "cell_type": "code",
   "execution_count": 90,
   "metadata": {
    "collapsed": false
   },
   "outputs": [
    {
     "name": "stderr",
     "output_type": "stream",
     "text": [
      "/Users/hunterowens/anaconda3/lib/python3.5/site-packages/ipykernel/__main__.py:2: SettingWithCopyWarning: \n",
      "A value is trying to be set on a copy of a slice from a DataFrame.\n",
      "Try using .loc[row_indexer,col_indexer] = value instead\n",
      "\n",
      "See the caveats in the documentation: http://pandas.pydata.org/pandas-docs/stable/indexing.html#indexing-view-versus-copy\n",
      "  from ipykernel import kernelapp as app\n",
      "/Users/hunterowens/anaconda3/lib/python3.5/site-packages/ipykernel/__main__.py:3: SettingWithCopyWarning: \n",
      "A value is trying to be set on a copy of a slice from a DataFrame.\n",
      "Try using .loc[row_indexer,col_indexer] = value instead\n",
      "\n",
      "See the caveats in the documentation: http://pandas.pydata.org/pandas-docs/stable/indexing.html#indexing-view-versus-copy\n",
      "  app.launch_new_instance()\n"
     ]
    }
   ],
   "source": [
    "## Make Numeric\n",
    "la_taxes_2015['revenue_numeric'] = la_taxes_2015['Revenue Distributed'].map(lambda x: x.replace(\"$\", \" \") \\\n",
    "                                                                                       .replace(\",\",\"\"))\n",
    "la_taxes_2015['revenue_numeric'] = pd.to_numeric(la_taxes_2015['revenue_numeric'])\n",
    "total_sales_revenue_15 = la_taxes_2015['revenue_numeric'].sum()\n",
    "total_prop_revenue_15 = 5682000000"
   ]
  },
  {
   "cell_type": "markdown",
   "metadata": {
    "variables": {
     "\"{:,}\".format(total_prop_revenue_15)": "5,682,000,000",
     "\"{:,}\".format(total_sales_revenue_15)": "1,115,959,897"
    }
   },
   "source": [
    "        Total Sales Tax Revenue in Los Angeles due to Sales tax is {{\"{:,}\".format(total_sales_revenue_15)}}. Total Prop Tax Revenue is {{\"{:,}\".format(total_prop_revenue_15)}}"
   ]
  },
  {
   "cell_type": "code",
   "execution_count": 105,
   "metadata": {
    "collapsed": false
   },
   "outputs": [],
   "source": [
    "## Calculate Growth expected returns \n",
    "avg_sales_increase = .029\n",
    "avg_prop_increase = .042\n",
    "\n",
    "year_1 = 2015\n",
    "year_2 = 2035\n",
    "\n",
    "sales_revenue = dict()\n",
    "prop_revenue = dict()\n",
    "for year in range(year_1, year_2):\n",
    "    collected_amt_sales = total_sales_revenue_15 * (1 + avg_sales_increase) ** (year - year_1)\n",
    "    sales_revenue[year] = collected_amt_sales\n",
    "    collected_amt_prop = total_prop_revenue_15 * (1 + avg_prop_increase) ** (year - year_1)\n",
    "    prop_revenue[year] = collected_amt_prop"
   ]
  },
  {
   "cell_type": "code",
   "execution_count": 134,
   "metadata": {
    "collapsed": false
   },
   "outputs": [
    {
     "data": {
      "text/html": [
       "\n",
       "\n",
       "    <div class=\"bk-root\">\n",
       "        <div class=\"plotdiv\" id=\"07f135b3-d873-445c-9f14-2d730e7b98bf\"></div>\n",
       "    </div>\n",
       "<script type=\"text/javascript\">\n",
       "  \n",
       "  (function(global) {\n",
       "    function now() {\n",
       "      return new Date();\n",
       "    }\n",
       "  \n",
       "    var force = \"\";\n",
       "  \n",
       "    if (typeof (window._bokeh_onload_callbacks) === \"undefined\" || force !== \"\") {\n",
       "      window._bokeh_onload_callbacks = [];\n",
       "      window._bokeh_is_loading = undefined;\n",
       "    }\n",
       "  \n",
       "  \n",
       "    \n",
       "    if (typeof (window._bokeh_timeout) === \"undefined\" || force !== \"\") {\n",
       "      window._bokeh_timeout = Date.now() + 0;\n",
       "      window._bokeh_failed_load = false;\n",
       "    }\n",
       "  \n",
       "    var NB_LOAD_WARNING = {'data': {'text/html':\n",
       "       \"<div style='background-color: #fdd'>\\n\"+\n",
       "       \"<p>\\n\"+\n",
       "       \"BokehJS does not appear to have successfully loaded. If loading BokehJS from CDN, this \\n\"+\n",
       "       \"may be due to a slow or bad network connection. Possible fixes:\\n\"+\n",
       "       \"</p>\\n\"+\n",
       "       \"<ul>\\n\"+\n",
       "       \"<li>re-rerun `output_notebook()` to attempt to load from CDN again, or</li>\\n\"+\n",
       "       \"<li>use INLINE resources instead, as so:</li>\\n\"+\n",
       "       \"</ul>\\n\"+\n",
       "       \"<code>\\n\"+\n",
       "       \"from bokeh.resources import INLINE\\n\"+\n",
       "       \"output_notebook(resources=INLINE)\\n\"+\n",
       "       \"</code>\\n\"+\n",
       "       \"</div>\"}};\n",
       "  \n",
       "    function display_loaded() {\n",
       "      if (window.Bokeh !== undefined) {\n",
       "        Bokeh.$(\"#07f135b3-d873-445c-9f14-2d730e7b98bf\").text(\"BokehJS successfully loaded.\");\n",
       "      } else if (Date.now() < window._bokeh_timeout) {\n",
       "        setTimeout(display_loaded, 100)\n",
       "      }\n",
       "    }\n",
       "  \n",
       "    function run_callbacks() {\n",
       "      window._bokeh_onload_callbacks.forEach(function(callback) { callback() });\n",
       "      delete window._bokeh_onload_callbacks\n",
       "      console.info(\"Bokeh: all callbacks have finished\");\n",
       "    }\n",
       "  \n",
       "    function load_libs(js_urls, callback) {\n",
       "      window._bokeh_onload_callbacks.push(callback);\n",
       "      if (window._bokeh_is_loading > 0) {\n",
       "        console.log(\"Bokeh: BokehJS is being loaded, scheduling callback at\", now());\n",
       "        return null;\n",
       "      }\n",
       "      if (js_urls == null || js_urls.length === 0) {\n",
       "        run_callbacks();\n",
       "        return null;\n",
       "      }\n",
       "      console.log(\"Bokeh: BokehJS not loaded, scheduling load and callback at\", now());\n",
       "      window._bokeh_is_loading = js_urls.length;\n",
       "      for (var i = 0; i < js_urls.length; i++) {\n",
       "        var url = js_urls[i];\n",
       "        var s = document.createElement('script');\n",
       "        s.src = url;\n",
       "        s.async = false;\n",
       "        s.onreadystatechange = s.onload = function() {\n",
       "          window._bokeh_is_loading--;\n",
       "          if (window._bokeh_is_loading === 0) {\n",
       "            console.log(\"Bokeh: all BokehJS libraries loaded\");\n",
       "            run_callbacks()\n",
       "          }\n",
       "        };\n",
       "        s.onerror = function() {\n",
       "          console.warn(\"failed to load library \" + url);\n",
       "        };\n",
       "        console.log(\"Bokeh: injecting script tag for BokehJS library: \", url);\n",
       "        document.getElementsByTagName(\"head\")[0].appendChild(s);\n",
       "      }\n",
       "    };var element = document.getElementById(\"07f135b3-d873-445c-9f14-2d730e7b98bf\");\n",
       "    if (element == null) {\n",
       "      console.log(\"Bokeh: ERROR: autoload.js configured with elementid '07f135b3-d873-445c-9f14-2d730e7b98bf' but no matching script tag was found. \")\n",
       "      return false;\n",
       "    }\n",
       "  \n",
       "    var js_urls = [];\n",
       "  \n",
       "    var inline_js = [\n",
       "      function(Bokeh) {\n",
       "        Bokeh.$(function() {\n",
       "            var docs_json = {\"6b53c57d-6eee-4cf4-a598-db5e4c9b19bd\":{\"roots\":{\"references\":[{\"attributes\":{\"line_color\":{\"value\":\"#f22c40\"},\"line_width\":{\"value\":2},\"x\":{\"field\":\"x_values\"},\"y\":{\"field\":\"y_values\"}},\"id\":\"ba335793-92e8-4502-bd2f-230d9bb3a551\",\"type\":\"Line\"},{\"attributes\":{\"plot\":{\"id\":\"55af8af4-760e-4ca9-809e-dfea6a1b1455\",\"subtype\":\"Chart\",\"type\":\"Plot\"}},\"id\":\"c8640ab3-83cb-405c-953e-391cc66a4a99\",\"type\":\"SaveTool\"},{\"attributes\":{\"active_drag\":\"auto\",\"active_scroll\":\"auto\",\"active_tap\":\"auto\",\"tools\":[{\"id\":\"6fdf0499-ecaf-4d98-886e-981bf80d938c\",\"type\":\"PanTool\"},{\"id\":\"c939ab74-c623-4dd9-986f-adfd63d0617e\",\"type\":\"WheelZoomTool\"},{\"id\":\"339ea112-5786-4005-b820-674ce4d0712a\",\"type\":\"BoxZoomTool\"},{\"id\":\"c8640ab3-83cb-405c-953e-391cc66a4a99\",\"type\":\"SaveTool\"},{\"id\":\"09a130ac-b33d-4993-a1af-3a3086b7dea1\",\"type\":\"ResetTool\"},{\"id\":\"3f3ebfe6-b155-401a-b0ea-74f95fe60ad6\",\"type\":\"HelpTool\"}]},\"id\":\"af0e7b8b-4f59-4bbb-9089-aa7c361a2940\",\"type\":\"Toolbar\"},{\"attributes\":{\"axis_label\":\"Dollars\",\"formatter\":{\"id\":\"791b63f7-bcee-4803-855b-70026754d103\",\"type\":\"BasicTickFormatter\"},\"plot\":{\"id\":\"55af8af4-760e-4ca9-809e-dfea6a1b1455\",\"subtype\":\"Chart\",\"type\":\"Plot\"},\"ticker\":{\"id\":\"e6637154-ef52-4d0a-b0f0-b950148c52bb\",\"type\":\"BasicTicker\"}},\"id\":\"36cd0fcb-4969-4e39-b880-24487c8ba3a5\",\"type\":\"LinearAxis\"},{\"attributes\":{\"legends\":[[\"a\",[{\"id\":\"63d06315-ff49-4492-bdae-9d0fc81b0a71\",\"type\":\"GlyphRenderer\"}]]],\"location\":\"top_left\",\"plot\":{\"id\":\"55af8af4-760e-4ca9-809e-dfea6a1b1455\",\"subtype\":\"Chart\",\"type\":\"Plot\"}},\"id\":\"1ae87df6-6224-4616-af87-7284e053a992\",\"type\":\"Legend\"},{\"attributes\":{\"plot\":{\"id\":\"55af8af4-760e-4ca9-809e-dfea6a1b1455\",\"subtype\":\"Chart\",\"type\":\"Plot\"}},\"id\":\"c939ab74-c623-4dd9-986f-adfd63d0617e\",\"type\":\"WheelZoomTool\"},{\"attributes\":{},\"id\":\"e6637154-ef52-4d0a-b0f0-b950148c52bb\",\"type\":\"BasicTicker\"},{\"attributes\":{},\"id\":\"a64a82d3-137e-4612-b2bc-7e16e2695d83\",\"type\":\"ToolEvents\"},{\"attributes\":{\"plot\":{\"id\":\"55af8af4-760e-4ca9-809e-dfea6a1b1455\",\"subtype\":\"Chart\",\"type\":\"Plot\"},\"ticker\":{\"id\":\"7652170b-1332-4442-b020-da8d716cfd72\",\"type\":\"BasicTicker\"}},\"id\":\"4a71838a-15bb-4758-86a5-e158f222ee2a\",\"type\":\"Grid\"},{\"attributes\":{\"below\":[{\"id\":\"c4d9bb5b-7e40-43fc-beda-98ee55f34432\",\"type\":\"LinearAxis\"}],\"left\":[{\"id\":\"36cd0fcb-4969-4e39-b880-24487c8ba3a5\",\"type\":\"LinearAxis\"}],\"renderers\":[{\"id\":\"a3bb2bb2-7478-4eba-bcf8-20a8751e639c\",\"type\":\"BoxAnnotation\"},{\"id\":\"63d06315-ff49-4492-bdae-9d0fc81b0a71\",\"type\":\"GlyphRenderer\"},{\"id\":\"1ae87df6-6224-4616-af87-7284e053a992\",\"type\":\"Legend\"},{\"id\":\"c4d9bb5b-7e40-43fc-beda-98ee55f34432\",\"type\":\"LinearAxis\"},{\"id\":\"36cd0fcb-4969-4e39-b880-24487c8ba3a5\",\"type\":\"LinearAxis\"},{\"id\":\"4a71838a-15bb-4758-86a5-e158f222ee2a\",\"type\":\"Grid\"},{\"id\":\"92a5f3fd-f712-44b4-a588-7c72c92ef41f\",\"type\":\"Grid\"}],\"title\":{\"id\":\"2233ff39-5bf9-4684-9e12-49af3fbf9095\",\"type\":\"Title\"},\"tool_events\":{\"id\":\"a64a82d3-137e-4612-b2bc-7e16e2695d83\",\"type\":\"ToolEvents\"},\"toolbar\":{\"id\":\"af0e7b8b-4f59-4bbb-9089-aa7c361a2940\",\"type\":\"Toolbar\"},\"x_mapper_type\":\"auto\",\"x_range\":{\"id\":\"824909d9-59e6-4b55-bbc6-30df3c02922c\",\"type\":\"Range1d\"},\"y_mapper_type\":\"auto\",\"y_range\":{\"id\":\"20e279ea-307b-4d82-b1c2-50110f6e1201\",\"type\":\"Range1d\"}},\"id\":\"55af8af4-760e-4ca9-809e-dfea6a1b1455\",\"subtype\":\"Chart\",\"type\":\"Plot\"},{\"attributes\":{},\"id\":\"791b63f7-bcee-4803-855b-70026754d103\",\"type\":\"BasicTickFormatter\"},{\"attributes\":{\"callback\":null,\"end\":13089594530.453587,\"start\":5008582315.41331},\"id\":\"20e279ea-307b-4d82-b1c2-50110f6e1201\",\"type\":\"Range1d\"},{\"attributes\":{\"axis_label\":\"index\",\"formatter\":{\"id\":\"72d74069-651e-4f30-8f29-99c5f57ef2ec\",\"type\":\"BasicTickFormatter\"},\"plot\":{\"id\":\"55af8af4-760e-4ca9-809e-dfea6a1b1455\",\"subtype\":\"Chart\",\"type\":\"Plot\"},\"ticker\":{\"id\":\"7652170b-1332-4442-b020-da8d716cfd72\",\"type\":\"BasicTicker\"}},\"id\":\"c4d9bb5b-7e40-43fc-beda-98ee55f34432\",\"type\":\"LinearAxis\"},{\"attributes\":{\"dimension\":1,\"plot\":{\"id\":\"55af8af4-760e-4ca9-809e-dfea6a1b1455\",\"subtype\":\"Chart\",\"type\":\"Plot\"},\"ticker\":{\"id\":\"e6637154-ef52-4d0a-b0f0-b950148c52bb\",\"type\":\"BasicTicker\"}},\"id\":\"92a5f3fd-f712-44b4-a588-7c72c92ef41f\",\"type\":\"Grid\"},{\"attributes\":{\"overlay\":{\"id\":\"a3bb2bb2-7478-4eba-bcf8-20a8751e639c\",\"type\":\"BoxAnnotation\"},\"plot\":{\"id\":\"55af8af4-760e-4ca9-809e-dfea6a1b1455\",\"subtype\":\"Chart\",\"type\":\"Plot\"}},\"id\":\"339ea112-5786-4005-b820-674ce4d0712a\",\"type\":\"BoxZoomTool\"},{\"attributes\":{},\"id\":\"72d74069-651e-4f30-8f29-99c5f57ef2ec\",\"type\":\"BasicTickFormatter\"},{\"attributes\":{\"callback\":null,\"column_names\":[\"y_values\",\"x_values\"],\"data\":{\"chart_index\":[{\"series\":\"a\"},{\"series\":\"a\"},{\"series\":\"a\"},{\"series\":\"a\"},{\"series\":\"a\"},{\"series\":\"a\"},{\"series\":\"a\"},{\"series\":\"a\"},{\"series\":\"a\"},{\"series\":\"a\"},{\"series\":\"a\"},{\"series\":\"a\"},{\"series\":\"a\"},{\"series\":\"a\"},{\"series\":\"a\"},{\"series\":\"a\"},{\"series\":\"a\"},{\"series\":\"a\"},{\"series\":\"a\"},{\"series\":\"a\"}],\"series\":[\"a\",\"a\",\"a\",\"a\",\"a\",\"a\",\"a\",\"a\",\"a\",\"a\",\"a\",\"a\",\"a\",\"a\",\"a\",\"a\",\"a\",\"a\",\"a\",\"a\"],\"x_values\":[2015,2016,2017,2018,2019,2020,2021,2022,2023,2024,2025,2026,2027,2028,2029,2030,2031,2032,2033,2034],\"y_values\":[5682000000.0,5920644000.0,6169311048.000001,6428422112.016,6698415840.720673,6979749306.030941,7272898776.884241,7578360525.51338,7896651667.584942,8228311037.623509,8573900101.203698,8934003905.454252,9309232069.483334,9700219816.401632,10107629048.6905,10532149468.735502,10974499746.422394,11435428735.772135,11915716742.674564,12416176845.866898]}},\"id\":\"f161a81b-bafe-42fd-b4b6-da36ff28317c\",\"type\":\"ColumnDataSource\"},{\"attributes\":{\"plot\":{\"id\":\"55af8af4-760e-4ca9-809e-dfea6a1b1455\",\"subtype\":\"Chart\",\"type\":\"Plot\"}},\"id\":\"09a130ac-b33d-4993-a1af-3a3086b7dea1\",\"type\":\"ResetTool\"},{\"attributes\":{\"callback\":null,\"end\":2035.9,\"start\":2013.1},\"id\":\"824909d9-59e6-4b55-bbc6-30df3c02922c\",\"type\":\"Range1d\"},{\"attributes\":{},\"id\":\"7652170b-1332-4442-b020-da8d716cfd72\",\"type\":\"BasicTicker\"},{\"attributes\":{\"data_source\":{\"id\":\"f161a81b-bafe-42fd-b4b6-da36ff28317c\",\"type\":\"ColumnDataSource\"},\"glyph\":{\"id\":\"ba335793-92e8-4502-bd2f-230d9bb3a551\",\"type\":\"Line\"},\"hover_glyph\":null,\"nonselection_glyph\":null,\"selection_glyph\":null},\"id\":\"63d06315-ff49-4492-bdae-9d0fc81b0a71\",\"type\":\"GlyphRenderer\"},{\"attributes\":{\"plot\":null,\"text\":\"Projected Property Tax Revenue Increase\"},\"id\":\"2233ff39-5bf9-4684-9e12-49af3fbf9095\",\"type\":\"Title\"},{\"attributes\":{\"plot\":{\"id\":\"55af8af4-760e-4ca9-809e-dfea6a1b1455\",\"subtype\":\"Chart\",\"type\":\"Plot\"}},\"id\":\"3f3ebfe6-b155-401a-b0ea-74f95fe60ad6\",\"type\":\"HelpTool\"},{\"attributes\":{\"bottom_units\":\"screen\",\"fill_alpha\":{\"value\":0.5},\"fill_color\":{\"value\":\"lightgrey\"},\"left_units\":\"screen\",\"level\":\"overlay\",\"line_alpha\":{\"value\":1.0},\"line_color\":{\"value\":\"black\"},\"line_dash\":[4,4],\"line_width\":{\"value\":2},\"plot\":null,\"render_mode\":\"css\",\"right_units\":\"screen\",\"top_units\":\"screen\"},\"id\":\"a3bb2bb2-7478-4eba-bcf8-20a8751e639c\",\"type\":\"BoxAnnotation\"},{\"attributes\":{\"plot\":{\"id\":\"55af8af4-760e-4ca9-809e-dfea6a1b1455\",\"subtype\":\"Chart\",\"type\":\"Plot\"}},\"id\":\"6fdf0499-ecaf-4d98-886e-981bf80d938c\",\"type\":\"PanTool\"}],\"root_ids\":[\"55af8af4-760e-4ca9-809e-dfea6a1b1455\"]},\"title\":\"Bokeh Application\",\"version\":\"0.12.2\"}};\n",
       "            var render_items = [{\"docid\":\"6b53c57d-6eee-4cf4-a598-db5e4c9b19bd\",\"elementid\":\"07f135b3-d873-445c-9f14-2d730e7b98bf\",\"modelid\":\"55af8af4-760e-4ca9-809e-dfea6a1b1455\"}];\n",
       "            \n",
       "            Bokeh.embed.embed_items(docs_json, render_items);\n",
       "        });\n",
       "      },\n",
       "      function(Bokeh) {\n",
       "      }\n",
       "    ];\n",
       "  \n",
       "    function run_inline_js() {\n",
       "      \n",
       "      if ((window.Bokeh !== undefined) || (force === \"1\")) {\n",
       "        for (var i = 0; i < inline_js.length; i++) {\n",
       "          inline_js[i](window.Bokeh);\n",
       "        }if (force === \"1\") {\n",
       "          display_loaded();\n",
       "        }} else if (Date.now() < window._bokeh_timeout) {\n",
       "        setTimeout(run_inline_js, 100);\n",
       "      } else if (!window._bokeh_failed_load) {\n",
       "        console.log(\"Bokeh: BokehJS failed to load within specified timeout.\");\n",
       "        window._bokeh_failed_load = true;\n",
       "      } else if (!force) {\n",
       "        var cell = $(\"#07f135b3-d873-445c-9f14-2d730e7b98bf\").parents('.cell').data().cell;\n",
       "        cell.output_area.append_execute_result(NB_LOAD_WARNING)\n",
       "      }\n",
       "  \n",
       "    }\n",
       "  \n",
       "    if (window._bokeh_is_loading === 0) {\n",
       "      console.log(\"Bokeh: BokehJS loaded, going straight to plotting\");\n",
       "      run_inline_js();\n",
       "    } else {\n",
       "      load_libs(js_urls, function() {\n",
       "        console.log(\"Bokeh: BokehJS plotting callback run at\", now());\n",
       "        run_inline_js();\n",
       "      });\n",
       "    }\n",
       "  }(this));\n",
       "</script>"
      ]
     },
     "metadata": {},
     "output_type": "display_data"
    }
   ],
   "source": [
    "# Chart\n",
    "line = Line(pd.Series(prop_revenue), title=\"Projected Property Tax Revenue Increase\", ylabel='Dollars')\n",
    "show(line)"
   ]
  },
  {
   "cell_type": "code",
   "execution_count": 138,
   "metadata": {
    "collapsed": false
   },
   "outputs": [],
   "source": [
    "# Capturable $$ \n",
    "df = pd.DataFrame([sales_revenue, prop_revenue]).T\n",
    "df['sales_revenue'] = df[0]\n",
    "df['prop_revenue'] = df[1]\n",
    "df['capturable_prop'] = (df['prop_revenue'] - total_prop_revenue_15) * percent_urban\n",
    "df['capturable_sales'] = (df['sales_revenue'] - total_sales_revenue_15) * percent_urban\n",
    "df['total_capture'] = df.capturable_prop + df.capturable_sales\n",
    "total_dollar_capture = df['total_capture'].sum()"
   ]
  },
  {
   "cell_type": "code",
   "execution_count": 137,
   "metadata": {
    "collapsed": false
   },
   "outputs": [
    {
     "data": {
      "text/html": [
       "\n",
       "\n",
       "    <div class=\"bk-root\">\n",
       "        <div class=\"plotdiv\" id=\"6007f40a-93d2-4f5f-9747-7ab5bf052c22\"></div>\n",
       "    </div>\n",
       "<script type=\"text/javascript\">\n",
       "  \n",
       "  (function(global) {\n",
       "    function now() {\n",
       "      return new Date();\n",
       "    }\n",
       "  \n",
       "    var force = \"\";\n",
       "  \n",
       "    if (typeof (window._bokeh_onload_callbacks) === \"undefined\" || force !== \"\") {\n",
       "      window._bokeh_onload_callbacks = [];\n",
       "      window._bokeh_is_loading = undefined;\n",
       "    }\n",
       "  \n",
       "  \n",
       "    \n",
       "    if (typeof (window._bokeh_timeout) === \"undefined\" || force !== \"\") {\n",
       "      window._bokeh_timeout = Date.now() + 0;\n",
       "      window._bokeh_failed_load = false;\n",
       "    }\n",
       "  \n",
       "    var NB_LOAD_WARNING = {'data': {'text/html':\n",
       "       \"<div style='background-color: #fdd'>\\n\"+\n",
       "       \"<p>\\n\"+\n",
       "       \"BokehJS does not appear to have successfully loaded. If loading BokehJS from CDN, this \\n\"+\n",
       "       \"may be due to a slow or bad network connection. Possible fixes:\\n\"+\n",
       "       \"</p>\\n\"+\n",
       "       \"<ul>\\n\"+\n",
       "       \"<li>re-rerun `output_notebook()` to attempt to load from CDN again, or</li>\\n\"+\n",
       "       \"<li>use INLINE resources instead, as so:</li>\\n\"+\n",
       "       \"</ul>\\n\"+\n",
       "       \"<code>\\n\"+\n",
       "       \"from bokeh.resources import INLINE\\n\"+\n",
       "       \"output_notebook(resources=INLINE)\\n\"+\n",
       "       \"</code>\\n\"+\n",
       "       \"</div>\"}};\n",
       "  \n",
       "    function display_loaded() {\n",
       "      if (window.Bokeh !== undefined) {\n",
       "        Bokeh.$(\"#6007f40a-93d2-4f5f-9747-7ab5bf052c22\").text(\"BokehJS successfully loaded.\");\n",
       "      } else if (Date.now() < window._bokeh_timeout) {\n",
       "        setTimeout(display_loaded, 100)\n",
       "      }\n",
       "    }\n",
       "  \n",
       "    function run_callbacks() {\n",
       "      window._bokeh_onload_callbacks.forEach(function(callback) { callback() });\n",
       "      delete window._bokeh_onload_callbacks\n",
       "      console.info(\"Bokeh: all callbacks have finished\");\n",
       "    }\n",
       "  \n",
       "    function load_libs(js_urls, callback) {\n",
       "      window._bokeh_onload_callbacks.push(callback);\n",
       "      if (window._bokeh_is_loading > 0) {\n",
       "        console.log(\"Bokeh: BokehJS is being loaded, scheduling callback at\", now());\n",
       "        return null;\n",
       "      }\n",
       "      if (js_urls == null || js_urls.length === 0) {\n",
       "        run_callbacks();\n",
       "        return null;\n",
       "      }\n",
       "      console.log(\"Bokeh: BokehJS not loaded, scheduling load and callback at\", now());\n",
       "      window._bokeh_is_loading = js_urls.length;\n",
       "      for (var i = 0; i < js_urls.length; i++) {\n",
       "        var url = js_urls[i];\n",
       "        var s = document.createElement('script');\n",
       "        s.src = url;\n",
       "        s.async = false;\n",
       "        s.onreadystatechange = s.onload = function() {\n",
       "          window._bokeh_is_loading--;\n",
       "          if (window._bokeh_is_loading === 0) {\n",
       "            console.log(\"Bokeh: all BokehJS libraries loaded\");\n",
       "            run_callbacks()\n",
       "          }\n",
       "        };\n",
       "        s.onerror = function() {\n",
       "          console.warn(\"failed to load library \" + url);\n",
       "        };\n",
       "        console.log(\"Bokeh: injecting script tag for BokehJS library: \", url);\n",
       "        document.getElementsByTagName(\"head\")[0].appendChild(s);\n",
       "      }\n",
       "    };var element = document.getElementById(\"6007f40a-93d2-4f5f-9747-7ab5bf052c22\");\n",
       "    if (element == null) {\n",
       "      console.log(\"Bokeh: ERROR: autoload.js configured with elementid '6007f40a-93d2-4f5f-9747-7ab5bf052c22' but no matching script tag was found. \")\n",
       "      return false;\n",
       "    }\n",
       "  \n",
       "    var js_urls = [];\n",
       "  \n",
       "    var inline_js = [\n",
       "      function(Bokeh) {\n",
       "        Bokeh.$(function() {\n",
       "            var docs_json = {\"6e9ce9be-ec89-4040-83a9-75fe2c933768\":{\"roots\":{\"references\":[{\"attributes\":{},\"id\":\"355a878e-e9df-47a6-b0e5-38df6858310b\",\"type\":\"BasicTicker\"},{\"attributes\":{\"dimension\":1,\"plot\":{\"id\":\"92019dcf-6ff4-4575-a984-0692c4f72c17\",\"subtype\":\"Chart\",\"type\":\"Plot\"},\"ticker\":{\"id\":\"355a878e-e9df-47a6-b0e5-38df6858310b\",\"type\":\"BasicTicker\"}},\"id\":\"31a9b0e5-a12e-457b-8896-47be0ab2549c\",\"type\":\"Grid\"},{\"attributes\":{},\"id\":\"39fa067b-2749-47d6-9b8b-68c9d7318ea5\",\"type\":\"ToolEvents\"},{\"attributes\":{\"plot\":{\"id\":\"92019dcf-6ff4-4575-a984-0692c4f72c17\",\"subtype\":\"Chart\",\"type\":\"Plot\"}},\"id\":\"c7f20e3f-6e90-4217-92de-ded8ec214c88\",\"type\":\"PanTool\"},{\"attributes\":{},\"id\":\"2fdf1272-be88-446e-90ec-99511b7eee0c\",\"type\":\"BasicTicker\"},{\"attributes\":{\"overlay\":{\"id\":\"b3c0c9ae-c852-4f94-a864-c757dbafcdb0\",\"type\":\"BoxAnnotation\"},\"plot\":{\"id\":\"92019dcf-6ff4-4575-a984-0692c4f72c17\",\"subtype\":\"Chart\",\"type\":\"Plot\"}},\"id\":\"f68d0f4c-d5ad-4577-b817-b7ad04b49731\",\"type\":\"BoxZoomTool\"},{\"attributes\":{\"plot\":{\"id\":\"92019dcf-6ff4-4575-a984-0692c4f72c17\",\"subtype\":\"Chart\",\"type\":\"Plot\"}},\"id\":\"36cec739-7d65-4831-8468-b842bf495f7d\",\"type\":\"WheelZoomTool\"},{\"attributes\":{\"callback\":null,\"end\":793161989436.1234,\"start\":-72105635403.28395},\"id\":\"35e410bf-a040-410c-b7ea-fe4c31ad08ce\",\"type\":\"Range1d\"},{\"attributes\":{},\"id\":\"7713ae04-fff1-4145-a235-5b64bc415aa2\",\"type\":\"BasicTickFormatter\"},{\"attributes\":{\"plot\":null,\"text\":\"Total Capture\"},\"id\":\"4087e3a3-5062-4cb5-b972-21c25006d5a4\",\"type\":\"Title\"},{\"attributes\":{\"data_source\":{\"id\":\"c40ae5fe-ca6d-464a-82d0-111e44c16a1f\",\"type\":\"ColumnDataSource\"},\"glyph\":{\"id\":\"62c1575f-e7a1-493b-841a-8d198f4ea737\",\"type\":\"Line\"},\"hover_glyph\":null,\"nonselection_glyph\":null,\"selection_glyph\":null},\"id\":\"57c28fd8-0706-462d-909b-2b4cfea16a35\",\"type\":\"GlyphRenderer\"},{\"attributes\":{\"active_drag\":\"auto\",\"active_scroll\":\"auto\",\"active_tap\":\"auto\",\"tools\":[{\"id\":\"c7f20e3f-6e90-4217-92de-ded8ec214c88\",\"type\":\"PanTool\"},{\"id\":\"36cec739-7d65-4831-8468-b842bf495f7d\",\"type\":\"WheelZoomTool\"},{\"id\":\"f68d0f4c-d5ad-4577-b817-b7ad04b49731\",\"type\":\"BoxZoomTool\"},{\"id\":\"15ca84d4-1dd7-427a-b836-3636cb45e2be\",\"type\":\"SaveTool\"},{\"id\":\"9a18d0ee-4c9a-4a40-b0a0-d97c71e5e5d1\",\"type\":\"ResetTool\"},{\"id\":\"224e5ec9-bb99-49ee-813c-74f60fb33cec\",\"type\":\"HelpTool\"}]},\"id\":\"807f9019-de43-40b4-b705-0da8447137ca\",\"type\":\"Toolbar\"},{\"attributes\":{\"plot\":{\"id\":\"92019dcf-6ff4-4575-a984-0692c4f72c17\",\"subtype\":\"Chart\",\"type\":\"Plot\"}},\"id\":\"15ca84d4-1dd7-427a-b836-3636cb45e2be\",\"type\":\"SaveTool\"},{\"attributes\":{\"plot\":{\"id\":\"92019dcf-6ff4-4575-a984-0692c4f72c17\",\"subtype\":\"Chart\",\"type\":\"Plot\"}},\"id\":\"224e5ec9-bb99-49ee-813c-74f60fb33cec\",\"type\":\"HelpTool\"},{\"attributes\":{\"axis_label\":\"value\",\"formatter\":{\"id\":\"7713ae04-fff1-4145-a235-5b64bc415aa2\",\"type\":\"BasicTickFormatter\"},\"plot\":{\"id\":\"92019dcf-6ff4-4575-a984-0692c4f72c17\",\"subtype\":\"Chart\",\"type\":\"Plot\"},\"ticker\":{\"id\":\"355a878e-e9df-47a6-b0e5-38df6858310b\",\"type\":\"BasicTicker\"}},\"id\":\"e8773ff7-da03-4127-adb3-7f6e3230c5b9\",\"type\":\"LinearAxis\"},{\"attributes\":{\"plot\":{\"id\":\"92019dcf-6ff4-4575-a984-0692c4f72c17\",\"subtype\":\"Chart\",\"type\":\"Plot\"}},\"id\":\"9a18d0ee-4c9a-4a40-b0a0-d97c71e5e5d1\",\"type\":\"ResetTool\"},{\"attributes\":{\"plot\":{\"id\":\"92019dcf-6ff4-4575-a984-0692c4f72c17\",\"subtype\":\"Chart\",\"type\":\"Plot\"},\"ticker\":{\"id\":\"2fdf1272-be88-446e-90ec-99511b7eee0c\",\"type\":\"BasicTicker\"}},\"id\":\"7a54de1d-1a0a-4c5d-becc-fa5dd77eeeca\",\"type\":\"Grid\"},{\"attributes\":{\"line_color\":{\"value\":\"#f22c40\"},\"line_width\":{\"value\":2},\"x\":{\"field\":\"x_values\"},\"y\":{\"field\":\"y_values\"}},\"id\":\"62c1575f-e7a1-493b-841a-8d198f4ea737\",\"type\":\"Line\"},{\"attributes\":{\"bottom_units\":\"screen\",\"fill_alpha\":{\"value\":0.5},\"fill_color\":{\"value\":\"lightgrey\"},\"left_units\":\"screen\",\"level\":\"overlay\",\"line_alpha\":{\"value\":1.0},\"line_color\":{\"value\":\"black\"},\"line_dash\":[4,4],\"line_width\":{\"value\":2},\"plot\":null,\"render_mode\":\"css\",\"right_units\":\"screen\",\"top_units\":\"screen\"},\"id\":\"b3c0c9ae-c852-4f94-a864-c757dbafcdb0\",\"type\":\"BoxAnnotation\"},{\"attributes\":{\"axis_label\":\"index\",\"formatter\":{\"id\":\"78467033-da8c-4cb7-94ee-4d510faa60db\",\"type\":\"BasicTickFormatter\"},\"plot\":{\"id\":\"92019dcf-6ff4-4575-a984-0692c4f72c17\",\"subtype\":\"Chart\",\"type\":\"Plot\"},\"ticker\":{\"id\":\"2fdf1272-be88-446e-90ec-99511b7eee0c\",\"type\":\"BasicTicker\"}},\"id\":\"932b29e7-df2d-4199-a426-6cebfe09a2fe\",\"type\":\"LinearAxis\"},{\"attributes\":{},\"id\":\"78467033-da8c-4cb7-94ee-4d510faa60db\",\"type\":\"BasicTickFormatter\"},{\"attributes\":{\"below\":[{\"id\":\"932b29e7-df2d-4199-a426-6cebfe09a2fe\",\"type\":\"LinearAxis\"}],\"left\":[{\"id\":\"e8773ff7-da03-4127-adb3-7f6e3230c5b9\",\"type\":\"LinearAxis\"}],\"renderers\":[{\"id\":\"b3c0c9ae-c852-4f94-a864-c757dbafcdb0\",\"type\":\"BoxAnnotation\"},{\"id\":\"57c28fd8-0706-462d-909b-2b4cfea16a35\",\"type\":\"GlyphRenderer\"},{\"id\":\"d04b4c57-9eff-4aad-a8eb-75a33adff361\",\"type\":\"Legend\"},{\"id\":\"932b29e7-df2d-4199-a426-6cebfe09a2fe\",\"type\":\"LinearAxis\"},{\"id\":\"e8773ff7-da03-4127-adb3-7f6e3230c5b9\",\"type\":\"LinearAxis\"},{\"id\":\"7a54de1d-1a0a-4c5d-becc-fa5dd77eeeca\",\"type\":\"Grid\"},{\"id\":\"31a9b0e5-a12e-457b-8896-47be0ab2549c\",\"type\":\"Grid\"}],\"title\":{\"id\":\"4087e3a3-5062-4cb5-b972-21c25006d5a4\",\"type\":\"Title\"},\"tool_events\":{\"id\":\"39fa067b-2749-47d6-9b8b-68c9d7318ea5\",\"type\":\"ToolEvents\"},\"toolbar\":{\"id\":\"807f9019-de43-40b4-b705-0da8447137ca\",\"type\":\"Toolbar\"},\"x_mapper_type\":\"auto\",\"x_range\":{\"id\":\"94c28746-4673-47ec-8f6a-65179f2fa8e0\",\"type\":\"Range1d\"},\"y_mapper_type\":\"auto\",\"y_range\":{\"id\":\"35e410bf-a040-410c-b7ea-fe4c31ad08ce\",\"type\":\"Range1d\"}},\"id\":\"92019dcf-6ff4-4575-a984-0692c4f72c17\",\"subtype\":\"Chart\",\"type\":\"Plot\"},{\"attributes\":{\"callback\":null,\"column_names\":[\"y_values\",\"x_values\"],\"data\":{\"chart_index\":[{\"series\":\"total_capture\"},{\"series\":\"total_capture\"},{\"series\":\"total_capture\"},{\"series\":\"total_capture\"},{\"series\":\"total_capture\"},{\"series\":\"total_capture\"},{\"series\":\"total_capture\"},{\"series\":\"total_capture\"},{\"series\":\"total_capture\"},{\"series\":\"total_capture\"},{\"series\":\"total_capture\"},{\"series\":\"total_capture\"},{\"series\":\"total_capture\"},{\"series\":\"total_capture\"},{\"series\":\"total_capture\"},{\"series\":\"total_capture\"},{\"series\":\"total_capture\"},{\"series\":\"total_capture\"},{\"series\":\"total_capture\"},{\"series\":\"total_capture\"}],\"series\":[\"total_capture\",\"total_capture\",\"total_capture\",\"total_capture\",\"total_capture\",\"total_capture\",\"total_capture\",\"total_capture\",\"total_capture\",\"total_capture\",\"total_capture\",\"total_capture\",\"total_capture\",\"total_capture\",\"total_capture\",\"total_capture\",\"total_capture\",\"total_capture\",\"total_capture\",\"total_capture\"],\"x_values\":[2015,2016,2017,2018,2019,2020,2021,2022,2023,2024,2025,2026,2027,2028,2029,2030,2031,2032,2033,2034],\"y_values\":[0.0,25919093891.92332,52886552364.7925,80945239847.49405,110139787235.30649,140516665100.1385,172124259947.1403,205012953644.80646,239235206161.01047,274845641742.94476,311901138684.7117,350460922832.32007,390586664982.1103,432342582335.14465,475795544176.9156,521015181958.7875,568074003964.9839,617047514756.6136,668014339592.239,721056354032.8395]}},\"id\":\"c40ae5fe-ca6d-464a-82d0-111e44c16a1f\",\"type\":\"ColumnDataSource\"},{\"attributes\":{\"legends\":[[\"total_capture\",[{\"id\":\"57c28fd8-0706-462d-909b-2b4cfea16a35\",\"type\":\"GlyphRenderer\"}]]],\"location\":\"top_left\",\"plot\":{\"id\":\"92019dcf-6ff4-4575-a984-0692c4f72c17\",\"subtype\":\"Chart\",\"type\":\"Plot\"}},\"id\":\"d04b4c57-9eff-4aad-a8eb-75a33adff361\",\"type\":\"Legend\"},{\"attributes\":{\"callback\":null,\"end\":2035.9,\"start\":2013.1},\"id\":\"94c28746-4673-47ec-8f6a-65179f2fa8e0\",\"type\":\"Range1d\"}],\"root_ids\":[\"92019dcf-6ff4-4575-a984-0692c4f72c17\"]},\"title\":\"Bokeh Application\",\"version\":\"0.12.2\"}};\n",
       "            var render_items = [{\"docid\":\"6e9ce9be-ec89-4040-83a9-75fe2c933768\",\"elementid\":\"6007f40a-93d2-4f5f-9747-7ab5bf052c22\",\"modelid\":\"92019dcf-6ff4-4575-a984-0692c4f72c17\"}];\n",
       "            \n",
       "            Bokeh.embed.embed_items(docs_json, render_items);\n",
       "        });\n",
       "      },\n",
       "      function(Bokeh) {\n",
       "      }\n",
       "    ];\n",
       "  \n",
       "    function run_inline_js() {\n",
       "      \n",
       "      if ((window.Bokeh !== undefined) || (force === \"1\")) {\n",
       "        for (var i = 0; i < inline_js.length; i++) {\n",
       "          inline_js[i](window.Bokeh);\n",
       "        }if (force === \"1\") {\n",
       "          display_loaded();\n",
       "        }} else if (Date.now() < window._bokeh_timeout) {\n",
       "        setTimeout(run_inline_js, 100);\n",
       "      } else if (!window._bokeh_failed_load) {\n",
       "        console.log(\"Bokeh: BokehJS failed to load within specified timeout.\");\n",
       "        window._bokeh_failed_load = true;\n",
       "      } else if (!force) {\n",
       "        var cell = $(\"#6007f40a-93d2-4f5f-9747-7ab5bf052c22\").parents('.cell').data().cell;\n",
       "        cell.output_area.append_execute_result(NB_LOAD_WARNING)\n",
       "      }\n",
       "  \n",
       "    }\n",
       "  \n",
       "    if (window._bokeh_is_loading === 0) {\n",
       "      console.log(\"Bokeh: BokehJS loaded, going straight to plotting\");\n",
       "      run_inline_js();\n",
       "    } else {\n",
       "      load_libs(js_urls, function() {\n",
       "        console.log(\"Bokeh: BokehJS plotting callback run at\", now());\n",
       "        run_inline_js();\n",
       "      });\n",
       "    }\n",
       "  }(this));\n",
       "</script>"
      ]
     },
     "metadata": {},
     "output_type": "display_data"
    }
   ],
   "source": [
    "show(Line(df['total_capture'], title=\"Total Capture\"))"
   ]
  },
  {
   "cell_type": "markdown",
   "metadata": {
    "variables": {
     " \"{:,}\".format(total_dollar_capture) ": "6,357,919,647,252.223"
    }
   },
   "source": [
    "In total, a 20 year EFID for all possible areas in LA County would generate {{ \"{:,}\".format(total_dollar_capture) }}. Yes, that is __six trillion dollars__ over 20 years. "
   ]
  },
  {
   "cell_type": "markdown",
   "metadata": {},
   "source": [
    "## How much housing would that fund \n",
    "* percentage for affordable \n",
    "* percentage for local income \n",
    "\n",
    "Resources \n",
    "\n",
    "* [2014 State Cost Study](http://www.hcd.ca.gov/policy-research/plans-reports/docs/FinalAffordableHousingCostStudyReport-with-coverv2.pdf) \n",
    "\n",
    "**Average cost is 315K Per Unit** "
   ]
  },
  {
   "cell_type": "code",
   "execution_count": 139,
   "metadata": {
    "collapsed": true
   },
   "outputs": [],
   "source": [
    "# Discount for Bond Rate \n"
   ]
  },
  {
   "cell_type": "code",
   "execution_count": 141,
   "metadata": {
    "collapsed": true
   },
   "outputs": [],
   "source": [
    "# Set asides for local income, affordable \n",
    "total_set_aide = .2\n",
    "v_low_bucket = .06\n",
    "low_bucket = .09\n",
    "any_type_bucket = .05 "
   ]
  },
  {
   "cell_type": "code",
   "execution_count": null,
   "metadata": {
    "collapsed": true
   },
   "outputs": [],
   "source": []
  }
 ],
 "metadata": {
  "kernelspec": {
   "display_name": "Python 3",
   "language": "python",
   "name": "python3"
  },
  "language_info": {
   "codemirror_mode": {
    "name": "ipython",
    "version": 3
   },
   "file_extension": ".py",
   "mimetype": "text/x-python",
   "name": "python",
   "nbconvert_exporter": "python",
   "pygments_lexer": "ipython3",
   "version": "3.5.3"
  }
 },
 "nbformat": 4,
 "nbformat_minor": 2
}
