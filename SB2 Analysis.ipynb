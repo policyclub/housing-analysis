{
 "cells": [
  {
   "cell_type": "markdown",
   "metadata": {},
   "source": [
    "# SB 2 Analysis \n",
    "Also known as AB 71. \n",
    "\n",
    "* [Source Factsheet](http://calhsng.org/new-factsheet-for-sb-2-and-ab-71/) \n",
    "\n",
    "LEG Text\n",
    "\n",
    "> This bill would enact the Building Homes and Jobs Act. The bill would make legislative findings and declarations relating to the need for establishing permanent, ongoing sources of funding dedicated to affordable housing development. The bill would impose a fee, except as provided, of $75 to be paid at the time of the recording of every real estate instrument, paper, or notice required or permitted by law to be recorded, per each single transaction per single parcel of real property, not to exceed $225. By imposing new duties on counties with respect to the imposition of the recording fee, the bill would create a state-mandated local program. The bill would require that a county recorder quarterly send revenues from this fee, after deduction of any actual and necessary administrative costs incurred by the county recorder, to the Controller for deposit in the Building Homes and Jobs Fund, which the bill would create within the State Treasury. The bill would, upon appropriation by the Legislature, require that 20% of the moneys in the fund be expended for affordable owner-occupied workforce housing and 10% of the moneys for housing purposes related to agricultural workers and their families, and would authorize the remainder of the moneys in the fund to be expended to support affordable housing, home ownership opportunities, and other housing-related programs, as specified. The bill would impose certain auditing and reporting requirements and would establish the Building Homes and Jobs Trust Fund Governing Board that would, among other things, review and approve recommendations made by the Department of Housing and Community Development for the distribution of moneys from the fund."
   ]
  },
  {
   "cell_type": "code",
   "execution_count": null,
   "metadata": {
    "collapsed": true
   },
   "outputs": [],
   "source": []
  }
 ],
 "metadata": {
  "kernelspec": {
   "display_name": "Python 3",
   "language": "python",
   "name": "python3"
  },
  "language_info": {
   "codemirror_mode": {
    "name": "ipython",
    "version": 3
   },
   "file_extension": ".py",
   "mimetype": "text/x-python",
   "name": "python",
   "nbconvert_exporter": "python",
   "pygments_lexer": "ipython3",
   "version": "3.5.3"
  }
 },
 "nbformat": 4,
 "nbformat_minor": 2
}
