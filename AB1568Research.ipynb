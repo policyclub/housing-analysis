{
 "cells": [
  {
   "cell_type": "markdown",
   "metadata": {},
   "source": [
    "# AB 1568 Data Research \n",
    "\n",
    "- What happened to the money dedicated to CRAs, approximately $1.7b?\n",
    "- If EIFDs raised sales taxes how likely are eligible voters to support MORE taxes? (Stage whisper: how much more sales tax are folks willing to pay? L.A. Co. is at 9.75%) **Effect of Sales tax on growth/housing?** \n",
    "- How big are EIFD-eligible areas in the most affected counties. How many people need to sign up? \n",
    "- Percentage of counties eligible for EIFD \n",
    "- Estimate effects of rent on sample EIFD \n",
    "- Possible amount raised for highest EIFDS "
   ]
  },
  {
   "cell_type": "code",
   "execution_count": 64,
   "metadata": {
    "collapsed": false
   },
   "outputs": [
    {
     "data": {
      "text/html": [
       "\n",
       "    <div class=\"bk-root\">\n",
       "        <a href=\"http://bokeh.pydata.org\" target=\"_blank\" class=\"bk-logo bk-logo-small bk-logo-notebook\"></a>\n",
       "        <span id=\"b71497cb-aa31-4b8f-a46c-97284419b519\">Loading BokehJS ...</span>\n",
       "    </div>"
      ]
     },
     "metadata": {},
     "output_type": "display_data"
    },
    {
     "data": {
      "application/javascript": [
       "\n",
       "(function(global) {\n",
       "  function now() {\n",
       "    return new Date();\n",
       "  }\n",
       "\n",
       "  var force = \"1\";\n",
       "\n",
       "  if (typeof (window._bokeh_onload_callbacks) === \"undefined\" || force !== \"\") {\n",
       "    window._bokeh_onload_callbacks = [];\n",
       "    window._bokeh_is_loading = undefined;\n",
       "  }\n",
       "\n",
       "\n",
       "  \n",
       "  if (typeof (window._bokeh_timeout) === \"undefined\" || force !== \"\") {\n",
       "    window._bokeh_timeout = Date.now() + 5000;\n",
       "    window._bokeh_failed_load = false;\n",
       "  }\n",
       "\n",
       "  var NB_LOAD_WARNING = {'data': {'text/html':\n",
       "     \"<div style='background-color: #fdd'>\\n\"+\n",
       "     \"<p>\\n\"+\n",
       "     \"BokehJS does not appear to have successfully loaded. If loading BokehJS from CDN, this \\n\"+\n",
       "     \"may be due to a slow or bad network connection. Possible fixes:\\n\"+\n",
       "     \"</p>\\n\"+\n",
       "     \"<ul>\\n\"+\n",
       "     \"<li>re-rerun `output_notebook()` to attempt to load from CDN again, or</li>\\n\"+\n",
       "     \"<li>use INLINE resources instead, as so:</li>\\n\"+\n",
       "     \"</ul>\\n\"+\n",
       "     \"<code>\\n\"+\n",
       "     \"from bokeh.resources import INLINE\\n\"+\n",
       "     \"output_notebook(resources=INLINE)\\n\"+\n",
       "     \"</code>\\n\"+\n",
       "     \"</div>\"}};\n",
       "\n",
       "  function display_loaded() {\n",
       "    if (window.Bokeh !== undefined) {\n",
       "      Bokeh.$(\"#b71497cb-aa31-4b8f-a46c-97284419b519\").text(\"BokehJS successfully loaded.\");\n",
       "    } else if (Date.now() < window._bokeh_timeout) {\n",
       "      setTimeout(display_loaded, 100)\n",
       "    }\n",
       "  }\n",
       "\n",
       "  function run_callbacks() {\n",
       "    window._bokeh_onload_callbacks.forEach(function(callback) { callback() });\n",
       "    delete window._bokeh_onload_callbacks\n",
       "    console.info(\"Bokeh: all callbacks have finished\");\n",
       "  }\n",
       "\n",
       "  function load_libs(js_urls, callback) {\n",
       "    window._bokeh_onload_callbacks.push(callback);\n",
       "    if (window._bokeh_is_loading > 0) {\n",
       "      console.log(\"Bokeh: BokehJS is being loaded, scheduling callback at\", now());\n",
       "      return null;\n",
       "    }\n",
       "    if (js_urls == null || js_urls.length === 0) {\n",
       "      run_callbacks();\n",
       "      return null;\n",
       "    }\n",
       "    console.log(\"Bokeh: BokehJS not loaded, scheduling load and callback at\", now());\n",
       "    window._bokeh_is_loading = js_urls.length;\n",
       "    for (var i = 0; i < js_urls.length; i++) {\n",
       "      var url = js_urls[i];\n",
       "      var s = document.createElement('script');\n",
       "      s.src = url;\n",
       "      s.async = false;\n",
       "      s.onreadystatechange = s.onload = function() {\n",
       "        window._bokeh_is_loading--;\n",
       "        if (window._bokeh_is_loading === 0) {\n",
       "          console.log(\"Bokeh: all BokehJS libraries loaded\");\n",
       "          run_callbacks()\n",
       "        }\n",
       "      };\n",
       "      s.onerror = function() {\n",
       "        console.warn(\"failed to load library \" + url);\n",
       "      };\n",
       "      console.log(\"Bokeh: injecting script tag for BokehJS library: \", url);\n",
       "      document.getElementsByTagName(\"head\")[0].appendChild(s);\n",
       "    }\n",
       "  };var element = document.getElementById(\"b71497cb-aa31-4b8f-a46c-97284419b519\");\n",
       "  if (element == null) {\n",
       "    console.log(\"Bokeh: ERROR: autoload.js configured with elementid 'b71497cb-aa31-4b8f-a46c-97284419b519' but no matching script tag was found. \")\n",
       "    return false;\n",
       "  }\n",
       "\n",
       "  var js_urls = ['https://cdn.pydata.org/bokeh/release/bokeh-0.12.2.min.js', 'https://cdn.pydata.org/bokeh/release/bokeh-widgets-0.12.2.min.js', 'https://cdn.pydata.org/bokeh/release/bokeh-compiler-0.12.2.min.js'];\n",
       "\n",
       "  var inline_js = [\n",
       "    function(Bokeh) {\n",
       "      Bokeh.set_log_level(\"info\");\n",
       "    },\n",
       "    \n",
       "    function(Bokeh) {\n",
       "      \n",
       "      Bokeh.$(\"#b71497cb-aa31-4b8f-a46c-97284419b519\").text(\"BokehJS is loading...\");\n",
       "    },\n",
       "    function(Bokeh) {\n",
       "      console.log(\"Bokeh: injecting CSS: https://cdn.pydata.org/bokeh/release/bokeh-0.12.2.min.css\");\n",
       "      Bokeh.embed.inject_css(\"https://cdn.pydata.org/bokeh/release/bokeh-0.12.2.min.css\");\n",
       "      console.log(\"Bokeh: injecting CSS: https://cdn.pydata.org/bokeh/release/bokeh-widgets-0.12.2.min.css\");\n",
       "      Bokeh.embed.inject_css(\"https://cdn.pydata.org/bokeh/release/bokeh-widgets-0.12.2.min.css\");\n",
       "    }\n",
       "  ];\n",
       "\n",
       "  function run_inline_js() {\n",
       "    \n",
       "    if ((window.Bokeh !== undefined) || (force === \"1\")) {\n",
       "      for (var i = 0; i < inline_js.length; i++) {\n",
       "        inline_js[i](window.Bokeh);\n",
       "      }if (force === \"1\") {\n",
       "        display_loaded();\n",
       "      }} else if (Date.now() < window._bokeh_timeout) {\n",
       "      setTimeout(run_inline_js, 100);\n",
       "    } else if (!window._bokeh_failed_load) {\n",
       "      console.log(\"Bokeh: BokehJS failed to load within specified timeout.\");\n",
       "      window._bokeh_failed_load = true;\n",
       "    } else if (!force) {\n",
       "      var cell = $(\"#b71497cb-aa31-4b8f-a46c-97284419b519\").parents('.cell').data().cell;\n",
       "      cell.output_area.append_execute_result(NB_LOAD_WARNING)\n",
       "    }\n",
       "\n",
       "  }\n",
       "\n",
       "  if (window._bokeh_is_loading === 0) {\n",
       "    console.log(\"Bokeh: BokehJS loaded, going straight to plotting\");\n",
       "    run_inline_js();\n",
       "  } else {\n",
       "    load_libs(js_urls, function() {\n",
       "      console.log(\"Bokeh: BokehJS plotting callback run at\", now());\n",
       "      run_inline_js();\n",
       "    });\n",
       "  }\n",
       "}(this));"
      ]
     },
     "metadata": {},
     "output_type": "display_data"
    }
   ],
   "source": [
    "import pandas as pd\n",
    "from bokeh.charts import Line, output_file, show\n",
    "from bokeh.io import output_notebook\n",
    "from bokeh.models import NumeralTickFormatter\n",
    "output_notebook()"
   ]
  },
  {
   "cell_type": "markdown",
   "metadata": {},
   "source": [
    "* EFID-elidblge are in SB 375 Infill locations. \n",
    "\n",
    "```html\n",
    "21061.3.  \"Infill site\" means a site in an urbanized area that\n",
    "meets either of the following criteria:\n",
    "   (a) The site has not been previously developed for urban uses and\n",
    "both of the following apply:\n",
    "       (1) The site is immediately adjacent to parcels that are developed\n",
    "with qualified urban uses, or at least 75 percent of the perimeter\n",
    "of the site adjoins parcels that are developed with qualified urban\n",
    "uses, and the remaining 25 percent of the site adjoins parcels that\n",
    "have previously been developed for qualified urban uses.\n",
    "       (2) No parcel within the site has been created within the past 10\n",
    "years unless the parcel was created as a result of the plan of a\n",
    "redevelopment agency.\n",
    "   (b) The site has been previously developed for qualified urban\n",
    "uses.\n",
    "```"
   ]
  },
  {
   "cell_type": "markdown",
   "metadata": {},
   "source": [
    "## Source Data\n",
    "* [Parcels](http://egis3.lacounty.gov/dataportal/2015/09/11/california-statewide-parcel-boundaries/)\n",
    "* [LA County Parcels](https://data.lacounty.gov/Parcel-/Assessor-Parcels-Data-2006-thru-2017/9trm-uz8i) "
   ]
  },
  {
   "cell_type": "code",
   "execution_count": 65,
   "metadata": {
    "collapsed": false
   },
   "outputs": [
    {
     "name": "stderr",
     "output_type": "stream",
     "text": [
      "/Users/hunterowens/anaconda3/lib/python3.5/site-packages/IPython/core/interactiveshell.py:2902: DtypeWarning: Columns (37) have mixed types. Specify dtype option on import or set low_memory=False.\n",
      "  interactivity=interactivity, compiler=compiler, result=result)\n"
     ]
    }
   ],
   "source": [
    "parcels_2016 = pd.read_csv('./data/2016_parcels.csv')"
   ]
  },
  {
   "cell_type": "code",
   "execution_count": 66,
   "metadata": {
    "collapsed": false
   },
   "outputs": [
    {
     "data": {
      "text/html": [
       "<div>\n",
       "<table border=\"1\" class=\"dataframe\">\n",
       "  <thead>\n",
       "    <tr style=\"text-align: right;\">\n",
       "      <th></th>\n",
       "      <th>ZIPcode</th>\n",
       "      <th>TaxRateArea_CITY</th>\n",
       "      <th>AIN</th>\n",
       "      <th>RollYear</th>\n",
       "      <th>TaxRateArea</th>\n",
       "      <th>AssessorID</th>\n",
       "      <th>PropertyLocation</th>\n",
       "      <th>PropertyType</th>\n",
       "      <th>PropertyUseCode</th>\n",
       "      <th>GeneralUseType</th>\n",
       "      <th>...</th>\n",
       "      <th>HouseFraction</th>\n",
       "      <th>StreetDirection</th>\n",
       "      <th>StreetName</th>\n",
       "      <th>UnitNo</th>\n",
       "      <th>City</th>\n",
       "      <th>ZIPcode5</th>\n",
       "      <th>rowID</th>\n",
       "      <th>CENTER_LAT</th>\n",
       "      <th>CENTER_LON</th>\n",
       "      <th>Location 1</th>\n",
       "    </tr>\n",
       "  </thead>\n",
       "  <tbody>\n",
       "    <tr>\n",
       "      <th>0</th>\n",
       "      <td></td>\n",
       "      <td>LOS ANGELES</td>\n",
       "      <td>2513002030</td>\n",
       "      <td>2016</td>\n",
       "      <td>16</td>\n",
       "      <td>2513-002-030</td>\n",
       "      <td>NaN</td>\n",
       "      <td>VAC</td>\n",
       "      <td>010V</td>\n",
       "      <td>Residential</td>\n",
       "      <td>...</td>\n",
       "      <td></td>\n",
       "      <td></td>\n",
       "      <td></td>\n",
       "      <td></td>\n",
       "      <td></td>\n",
       "      <td>NaN</td>\n",
       "      <td>20162513002030</td>\n",
       "      <td>34.303785</td>\n",
       "      <td>-118.431512</td>\n",
       "      <td>(34.30378543, -118.43151154)</td>\n",
       "    </tr>\n",
       "    <tr>\n",
       "      <th>1</th>\n",
       "      <td></td>\n",
       "      <td>BURBANK</td>\n",
       "      <td>2482012004</td>\n",
       "      <td>2016</td>\n",
       "      <td>2530</td>\n",
       "      <td>2482-012-004</td>\n",
       "      <td>NaN</td>\n",
       "      <td>VAC</td>\n",
       "      <td>010V</td>\n",
       "      <td>Residential</td>\n",
       "      <td>...</td>\n",
       "      <td></td>\n",
       "      <td></td>\n",
       "      <td></td>\n",
       "      <td></td>\n",
       "      <td></td>\n",
       "      <td>NaN</td>\n",
       "      <td>20162482012004</td>\n",
       "      <td>34.154597</td>\n",
       "      <td>-118.340920</td>\n",
       "      <td>(34.15459719, -118.34091962)</td>\n",
       "    </tr>\n",
       "    <tr>\n",
       "      <th>2</th>\n",
       "      <td></td>\n",
       "      <td>BURBANK</td>\n",
       "      <td>2485001014</td>\n",
       "      <td>2016</td>\n",
       "      <td>2530</td>\n",
       "      <td>2485-001-014</td>\n",
       "      <td>NaN</td>\n",
       "      <td>VAC</td>\n",
       "      <td>100V</td>\n",
       "      <td>Commercial</td>\n",
       "      <td>...</td>\n",
       "      <td></td>\n",
       "      <td></td>\n",
       "      <td></td>\n",
       "      <td></td>\n",
       "      <td></td>\n",
       "      <td>NaN</td>\n",
       "      <td>20162485001014</td>\n",
       "      <td>34.152521</td>\n",
       "      <td>-118.348560</td>\n",
       "      <td>(34.15252149, -118.34856035)</td>\n",
       "    </tr>\n",
       "    <tr>\n",
       "      <th>3</th>\n",
       "      <td></td>\n",
       "      <td>BURBANK</td>\n",
       "      <td>2485001015</td>\n",
       "      <td>2016</td>\n",
       "      <td>2530</td>\n",
       "      <td>2485-001-015</td>\n",
       "      <td>NaN</td>\n",
       "      <td>VAC</td>\n",
       "      <td>100V</td>\n",
       "      <td>Commercial</td>\n",
       "      <td>...</td>\n",
       "      <td></td>\n",
       "      <td></td>\n",
       "      <td></td>\n",
       "      <td></td>\n",
       "      <td></td>\n",
       "      <td>NaN</td>\n",
       "      <td>20162485001015</td>\n",
       "      <td>34.152521</td>\n",
       "      <td>-118.348439</td>\n",
       "      <td>(34.15252138, -118.34843850)</td>\n",
       "    </tr>\n",
       "    <tr>\n",
       "      <th>4</th>\n",
       "      <td></td>\n",
       "      <td>BURBANK</td>\n",
       "      <td>2485001016</td>\n",
       "      <td>2016</td>\n",
       "      <td>2530</td>\n",
       "      <td>2485-001-016</td>\n",
       "      <td>NaN</td>\n",
       "      <td>VAC</td>\n",
       "      <td>100V</td>\n",
       "      <td>Commercial</td>\n",
       "      <td>...</td>\n",
       "      <td></td>\n",
       "      <td></td>\n",
       "      <td></td>\n",
       "      <td></td>\n",
       "      <td></td>\n",
       "      <td>NaN</td>\n",
       "      <td>20162485001016</td>\n",
       "      <td>34.152522</td>\n",
       "      <td>-118.348274</td>\n",
       "      <td>(34.15252191, -118.34827448)</td>\n",
       "    </tr>\n",
       "  </tbody>\n",
       "</table>\n",
       "<p>5 rows × 51 columns</p>\n",
       "</div>"
      ],
      "text/plain": [
       "  ZIPcode TaxRateArea_CITY         AIN  RollYear  TaxRateArea    AssessorID  \\\n",
       "0              LOS ANGELES  2513002030      2016           16  2513-002-030   \n",
       "1              BURBANK      2482012004      2016         2530  2482-012-004   \n",
       "2              BURBANK      2485001014      2016         2530  2485-001-014   \n",
       "3              BURBANK      2485001015      2016         2530  2485-001-015   \n",
       "4              BURBANK      2485001016      2016         2530  2485-001-016   \n",
       "\n",
       "  PropertyLocation PropertyType PropertyUseCode GeneralUseType  \\\n",
       "0              NaN          VAC            010V    Residential   \n",
       "1              NaN          VAC            010V    Residential   \n",
       "2              NaN          VAC            100V     Commercial   \n",
       "3              NaN          VAC            100V     Commercial   \n",
       "4              NaN          VAC            100V     Commercial   \n",
       "\n",
       "               ...              HouseFraction StreetDirection StreetName  \\\n",
       "0              ...                                                         \n",
       "1              ...                                                         \n",
       "2              ...                                                         \n",
       "3              ...                                                         \n",
       "4              ...                                                         \n",
       "\n",
       "   UnitNo  City  ZIPcode5           rowID  CENTER_LAT  CENTER_LON  \\\n",
       "0                     NaN  20162513002030   34.303785 -118.431512   \n",
       "1                     NaN  20162482012004   34.154597 -118.340920   \n",
       "2                     NaN  20162485001014   34.152521 -118.348560   \n",
       "3                     NaN  20162485001015   34.152521 -118.348439   \n",
       "4                     NaN  20162485001016   34.152522 -118.348274   \n",
       "\n",
       "                     Location 1  \n",
       "0  (34.30378543, -118.43151154)  \n",
       "1  (34.15459719, -118.34091962)  \n",
       "2  (34.15252149, -118.34856035)  \n",
       "3  (34.15252138, -118.34843850)  \n",
       "4  (34.15252191, -118.34827448)  \n",
       "\n",
       "[5 rows x 51 columns]"
      ]
     },
     "execution_count": 66,
     "metadata": {},
     "output_type": "execute_result"
    }
   ],
   "source": [
    "parcels_2016.head()"
   ]
  },
  {
   "cell_type": "markdown",
   "metadata": {},
   "source": [
    "## Percent of LA Count EFID Qualified "
   ]
  },
  {
   "cell_type": "code",
   "execution_count": 67,
   "metadata": {
    "collapsed": false
   },
   "outputs": [
    {
     "data": {
      "text/plain": [
       "0       Residential\n",
       "1        Commercial\n",
       "2     Miscellaneous\n",
       "3        Industrial\n",
       "4     Institutional\n",
       "5      Recreational\n",
       "6          Dry Farm\n",
       "7    Irrigated Farm\n",
       "8         (missing)\n",
       "dtype: object"
      ]
     },
     "execution_count": 67,
     "metadata": {},
     "output_type": "execute_result"
    }
   ],
   "source": [
    "pd.Series(parcels_2016.GeneralUseType.unique())"
   ]
  },
  {
   "cell_type": "code",
   "execution_count": 68,
   "metadata": {
    "collapsed": true
   },
   "outputs": [],
   "source": [
    "parcels_2016['isUrban'] = parcels_2016.GeneralUseType.apply(lambda x: False if x == \"Dry Farm\" or x == \"Irrigated Farm\" else True)    "
   ]
  },
  {
   "cell_type": "code",
   "execution_count": 69,
   "metadata": {
    "collapsed": false
   },
   "outputs": [],
   "source": [
    "values = parcels_2016['isUrban'].value_counts()"
   ]
  },
  {
   "cell_type": "code",
   "execution_count": 70,
   "metadata": {
    "collapsed": false
   },
   "outputs": [
    {
     "name": "stdout",
     "output_type": "stream",
     "text": [
      "0.9564\n"
     ]
    }
   ],
   "source": [
    "percent_urban = round(((values[1] - values[0]) / parcels_2016['isUrban'].count()), 4)\n",
    "print(percent_urban)"
   ]
  },
  {
   "cell_type": "markdown",
   "metadata": {
    "variables": {
     "percent_urban * 100": "95.640000000000001"
    }
   },
   "source": [
    "{{percent_urban * 100}} of the parcels in Los Angeles are EIFD eligble. However, this doesn't mean that certain combination of parcels wouldn't disqualify it for infill development. "
   ]
  },
  {
   "cell_type": "markdown",
   "metadata": {},
   "source": [
    "## How Much Tax Revenue could a total EFID Generate\n",
    "\n",
    "We caculate the value of the increment via the below formula\n",
    " \n",
    "**value of the increment** = [(predicted sales tax gained from the properties + predicted use tax gained from the properties) - (current sales tax gained from the properties + current use tax gained from the properties)] * number of years the increment district is valid for over the properties\n",
    "\n",
    "\n",
    "* [2015-16 Property Tax Revenue for County](http://lacountyannualreport.com/budget/) - Property Taxes $5.682B\n",
    "* [Tax Data](https://www.boe.ca.gov/DataPortal/SUTDRevDistCityCounty.aspx) \n",
    "* \"Statewide property tax revenues are estimated to increase 5.9 percent in 2016‑17 and\n",
    "5.3 percent in 2017‑18\" - [State CAO estimates](http://www.ebudget.ca.gov/2017-18/pdf/BudgetSummary/RevenueEstimates.pdf) \n",
    "* \"Statewise Sales Tax Revenue increased 2.9%\" \n",
    "\n",
    "_Author's Note_: This work is missing some nuance. Notably, the growth curve and tax percentages aren't aligned with the EFID areas. Additionally, we do not subtract from the already allocated tax, ie Measure R & M in LA County, so this will be an overestimate. \n",
    "\n",
    "Additionally, the growth model is not fit at all. \n",
    "\n",
    "Finally, it assumes that we set the time of the Districts as 20 years starting in 2015, thanks to avaliable data. "
   ]
  },
  {
   "cell_type": "code",
   "execution_count": 71,
   "metadata": {
    "collapsed": true
   },
   "outputs": [],
   "source": [
    "tax_data = pd.read_csv('./data/SUTDRevDistCityCounty.csv')"
   ]
  },
  {
   "cell_type": "code",
   "execution_count": 72,
   "metadata": {
    "collapsed": false
   },
   "outputs": [],
   "source": [
    "## Filter LA County \n",
    "filter_county = tax_data.County == \"Los Angeles County\"\n",
    "filter_year = tax_data['Fiscal Year From'] == 2014\n",
    "\n",
    "la_taxes_2015 = tax_data[filter_year & filter_county]"
   ]
  },
  {
   "cell_type": "code",
   "execution_count": 73,
   "metadata": {
    "collapsed": false
   },
   "outputs": [
    {
     "name": "stderr",
     "output_type": "stream",
     "text": [
      "/Users/hunterowens/anaconda3/lib/python3.5/site-packages/ipykernel/__main__.py:2: SettingWithCopyWarning: \n",
      "A value is trying to be set on a copy of a slice from a DataFrame.\n",
      "Try using .loc[row_indexer,col_indexer] = value instead\n",
      "\n",
      "See the caveats in the documentation: http://pandas.pydata.org/pandas-docs/stable/indexing.html#indexing-view-versus-copy\n",
      "  from ipykernel import kernelapp as app\n",
      "/Users/hunterowens/anaconda3/lib/python3.5/site-packages/ipykernel/__main__.py:3: SettingWithCopyWarning: \n",
      "A value is trying to be set on a copy of a slice from a DataFrame.\n",
      "Try using .loc[row_indexer,col_indexer] = value instead\n",
      "\n",
      "See the caveats in the documentation: http://pandas.pydata.org/pandas-docs/stable/indexing.html#indexing-view-versus-copy\n",
      "  app.launch_new_instance()\n"
     ]
    }
   ],
   "source": [
    "## Make Numeric\n",
    "la_taxes_2015['revenue_numeric'] = la_taxes_2015['Revenue Distributed'].map(lambda x: x.replace(\"$\", \" \") \\\n",
    "                                                                                       .replace(\",\",\"\"))\n",
    "la_taxes_2015['revenue_numeric'] = pd.to_numeric(la_taxes_2015['revenue_numeric'])\n",
    "total_sales_revenue_15 = la_taxes_2015['revenue_numeric'].sum()\n",
    "total_prop_revenue_15 = 5682000000"
   ]
  },
  {
   "cell_type": "markdown",
   "metadata": {
    "variables": {
     "\"{:,}\".format(total_prop_revenue_15)": "5,682,000,000",
     "\"{:,}\".format(total_sales_revenue_15)": "1,115,959,897"
    }
   },
   "source": [
    "        Total Sales Tax Revenue in Los Angeles due to Sales tax is {{\"{:,}\".format(total_sales_revenue_15)}}. Total Prop Tax Revenue is {{\"{:,}\".format(total_prop_revenue_15)}}"
   ]
  },
  {
   "cell_type": "code",
   "execution_count": 74,
   "metadata": {
    "collapsed": false
   },
   "outputs": [],
   "source": [
    "## Calculate Growth expected returns \n",
    "avg_sales_increase = .029\n",
    "avg_prop_increase = .042\n",
    "\n",
    "year_1 = 2015\n",
    "year_2 = 2035\n",
    "\n",
    "sales_revenue = dict()\n",
    "prop_revenue = dict()\n",
    "for year in range(year_1, year_2):\n",
    "    collected_amt_sales = total_sales_revenue_15 * (1 + avg_sales_increase) ** (year - year_1)\n",
    "    sales_revenue[year] = collected_amt_sales\n",
    "    collected_amt_prop = total_prop_revenue_15 * (1 + avg_prop_increase) ** (year - year_1)\n",
    "    prop_revenue[year] = collected_amt_prop"
   ]
  },
  {
   "cell_type": "code",
   "execution_count": 75,
   "metadata": {
    "collapsed": false
   },
   "outputs": [
    {
     "data": {
      "text/html": [
       "\n",
       "\n",
       "    <div class=\"bk-root\">\n",
       "        <div class=\"plotdiv\" id=\"40739855-94f0-4eca-ba4e-eb70e55dc1fb\"></div>\n",
       "    </div>\n",
       "<script type=\"text/javascript\">\n",
       "  \n",
       "  (function(global) {\n",
       "    function now() {\n",
       "      return new Date();\n",
       "    }\n",
       "  \n",
       "    var force = \"\";\n",
       "  \n",
       "    if (typeof (window._bokeh_onload_callbacks) === \"undefined\" || force !== \"\") {\n",
       "      window._bokeh_onload_callbacks = [];\n",
       "      window._bokeh_is_loading = undefined;\n",
       "    }\n",
       "  \n",
       "  \n",
       "    \n",
       "    if (typeof (window._bokeh_timeout) === \"undefined\" || force !== \"\") {\n",
       "      window._bokeh_timeout = Date.now() + 0;\n",
       "      window._bokeh_failed_load = false;\n",
       "    }\n",
       "  \n",
       "    var NB_LOAD_WARNING = {'data': {'text/html':\n",
       "       \"<div style='background-color: #fdd'>\\n\"+\n",
       "       \"<p>\\n\"+\n",
       "       \"BokehJS does not appear to have successfully loaded. If loading BokehJS from CDN, this \\n\"+\n",
       "       \"may be due to a slow or bad network connection. Possible fixes:\\n\"+\n",
       "       \"</p>\\n\"+\n",
       "       \"<ul>\\n\"+\n",
       "       \"<li>re-rerun `output_notebook()` to attempt to load from CDN again, or</li>\\n\"+\n",
       "       \"<li>use INLINE resources instead, as so:</li>\\n\"+\n",
       "       \"</ul>\\n\"+\n",
       "       \"<code>\\n\"+\n",
       "       \"from bokeh.resources import INLINE\\n\"+\n",
       "       \"output_notebook(resources=INLINE)\\n\"+\n",
       "       \"</code>\\n\"+\n",
       "       \"</div>\"}};\n",
       "  \n",
       "    function display_loaded() {\n",
       "      if (window.Bokeh !== undefined) {\n",
       "        Bokeh.$(\"#40739855-94f0-4eca-ba4e-eb70e55dc1fb\").text(\"BokehJS successfully loaded.\");\n",
       "      } else if (Date.now() < window._bokeh_timeout) {\n",
       "        setTimeout(display_loaded, 100)\n",
       "      }\n",
       "    }\n",
       "  \n",
       "    function run_callbacks() {\n",
       "      window._bokeh_onload_callbacks.forEach(function(callback) { callback() });\n",
       "      delete window._bokeh_onload_callbacks\n",
       "      console.info(\"Bokeh: all callbacks have finished\");\n",
       "    }\n",
       "  \n",
       "    function load_libs(js_urls, callback) {\n",
       "      window._bokeh_onload_callbacks.push(callback);\n",
       "      if (window._bokeh_is_loading > 0) {\n",
       "        console.log(\"Bokeh: BokehJS is being loaded, scheduling callback at\", now());\n",
       "        return null;\n",
       "      }\n",
       "      if (js_urls == null || js_urls.length === 0) {\n",
       "        run_callbacks();\n",
       "        return null;\n",
       "      }\n",
       "      console.log(\"Bokeh: BokehJS not loaded, scheduling load and callback at\", now());\n",
       "      window._bokeh_is_loading = js_urls.length;\n",
       "      for (var i = 0; i < js_urls.length; i++) {\n",
       "        var url = js_urls[i];\n",
       "        var s = document.createElement('script');\n",
       "        s.src = url;\n",
       "        s.async = false;\n",
       "        s.onreadystatechange = s.onload = function() {\n",
       "          window._bokeh_is_loading--;\n",
       "          if (window._bokeh_is_loading === 0) {\n",
       "            console.log(\"Bokeh: all BokehJS libraries loaded\");\n",
       "            run_callbacks()\n",
       "          }\n",
       "        };\n",
       "        s.onerror = function() {\n",
       "          console.warn(\"failed to load library \" + url);\n",
       "        };\n",
       "        console.log(\"Bokeh: injecting script tag for BokehJS library: \", url);\n",
       "        document.getElementsByTagName(\"head\")[0].appendChild(s);\n",
       "      }\n",
       "    };var element = document.getElementById(\"40739855-94f0-4eca-ba4e-eb70e55dc1fb\");\n",
       "    if (element == null) {\n",
       "      console.log(\"Bokeh: ERROR: autoload.js configured with elementid '40739855-94f0-4eca-ba4e-eb70e55dc1fb' but no matching script tag was found. \")\n",
       "      return false;\n",
       "    }\n",
       "  \n",
       "    var js_urls = [];\n",
       "  \n",
       "    var inline_js = [\n",
       "      function(Bokeh) {\n",
       "        Bokeh.$(function() {\n",
       "            var docs_json = {\"92cdbf7f-d9ef-4f74-a408-d6e451b7df9b\":{\"roots\":{\"references\":[{\"attributes\":{\"callback\":null,\"end\":2035.9,\"start\":2013.1},\"id\":\"39bba92e-c3b0-4e2e-898d-bb8f92af6139\",\"type\":\"Range1d\"},{\"attributes\":{\"plot\":{\"id\":\"95ab0af9-05d5-40dd-8b8d-f2a1206810ea\",\"subtype\":\"Chart\",\"type\":\"Plot\"}},\"id\":\"f51f69e2-be10-41f7-b900-038ca0c61d75\",\"type\":\"WheelZoomTool\"},{\"attributes\":{\"legends\":[[\"a\",[{\"id\":\"e1384cba-28fa-4d89-89a2-e0b7ba417688\",\"type\":\"GlyphRenderer\"}]]],\"location\":\"top_left\",\"plot\":{\"id\":\"95ab0af9-05d5-40dd-8b8d-f2a1206810ea\",\"subtype\":\"Chart\",\"type\":\"Plot\"}},\"id\":\"994c2479-dafd-4afb-827e-5eb15da6bf85\",\"type\":\"Legend\"},{\"attributes\":{},\"id\":\"856cf993-6eed-4a55-bb9d-e08d68ed754a\",\"type\":\"BasicTicker\"},{\"attributes\":{\"plot\":{\"id\":\"95ab0af9-05d5-40dd-8b8d-f2a1206810ea\",\"subtype\":\"Chart\",\"type\":\"Plot\"}},\"id\":\"80319af1-4f6a-4462-b5e4-6a3dcd3e075a\",\"type\":\"ResetTool\"},{\"attributes\":{\"callback\":null,\"column_names\":[\"x_values\",\"y_values\"],\"data\":{\"chart_index\":[{\"series\":\"a\"},{\"series\":\"a\"},{\"series\":\"a\"},{\"series\":\"a\"},{\"series\":\"a\"},{\"series\":\"a\"},{\"series\":\"a\"},{\"series\":\"a\"},{\"series\":\"a\"},{\"series\":\"a\"},{\"series\":\"a\"},{\"series\":\"a\"},{\"series\":\"a\"},{\"series\":\"a\"},{\"series\":\"a\"},{\"series\":\"a\"},{\"series\":\"a\"},{\"series\":\"a\"},{\"series\":\"a\"},{\"series\":\"a\"}],\"series\":[\"a\",\"a\",\"a\",\"a\",\"a\",\"a\",\"a\",\"a\",\"a\",\"a\",\"a\",\"a\",\"a\",\"a\",\"a\",\"a\",\"a\",\"a\",\"a\",\"a\"],\"x_values\":[2015,2016,2017,2018,2019,2020,2021,2022,2023,2024,2025,2026,2027,2028,2029,2030,2031,2032,2033,2034],\"y_values\":[5682000000.0,5920644000.0,6169311048.000001,6428422112.016,6698415840.720673,6979749306.030941,7272898776.884241,7578360525.51338,7896651667.584942,8228311037.623509,8573900101.203698,8934003905.454252,9309232069.483334,9700219816.401632,10107629048.6905,10532149468.735502,10974499746.422394,11435428735.772135,11915716742.674564,12416176845.866898]}},\"id\":\"c5f471d5-48b1-4750-86c9-0bd66e22896a\",\"type\":\"ColumnDataSource\"},{\"attributes\":{\"bottom_units\":\"screen\",\"fill_alpha\":{\"value\":0.5},\"fill_color\":{\"value\":\"lightgrey\"},\"left_units\":\"screen\",\"level\":\"overlay\",\"line_alpha\":{\"value\":1.0},\"line_color\":{\"value\":\"black\"},\"line_dash\":[4,4],\"line_width\":{\"value\":2},\"plot\":null,\"render_mode\":\"css\",\"right_units\":\"screen\",\"top_units\":\"screen\"},\"id\":\"5ffaf6d2-022f-4222-b42a-4d4d7c10d8b1\",\"type\":\"BoxAnnotation\"},{\"attributes\":{\"plot\":{\"id\":\"95ab0af9-05d5-40dd-8b8d-f2a1206810ea\",\"subtype\":\"Chart\",\"type\":\"Plot\"}},\"id\":\"aa064434-61fd-459f-9bcb-f9812b3cd8c3\",\"type\":\"PanTool\"},{\"attributes\":{\"plot\":null,\"text\":\"Projected Property Tax Revenue Increase\"},\"id\":\"bc4af77e-3a03-4755-b8ee-23b9e7f066c3\",\"type\":\"Title\"},{\"attributes\":{\"data_source\":{\"id\":\"c5f471d5-48b1-4750-86c9-0bd66e22896a\",\"type\":\"ColumnDataSource\"},\"glyph\":{\"id\":\"82750b8f-9757-443d-9c0d-b8a2a6d793bf\",\"type\":\"Line\"},\"hover_glyph\":null,\"nonselection_glyph\":null,\"selection_glyph\":null},\"id\":\"e1384cba-28fa-4d89-89a2-e0b7ba417688\",\"type\":\"GlyphRenderer\"},{\"attributes\":{\"plot\":{\"id\":\"95ab0af9-05d5-40dd-8b8d-f2a1206810ea\",\"subtype\":\"Chart\",\"type\":\"Plot\"}},\"id\":\"08d9d6c7-d506-494f-a67d-88b99d1b4113\",\"type\":\"SaveTool\"},{\"attributes\":{\"callback\":null,\"end\":13089594530.453587,\"start\":5008582315.41331},\"id\":\"7ffee8e7-0c36-46bd-9d51-f96452ad3c5b\",\"type\":\"Range1d\"},{\"attributes\":{\"dimension\":1,\"plot\":{\"id\":\"95ab0af9-05d5-40dd-8b8d-f2a1206810ea\",\"subtype\":\"Chart\",\"type\":\"Plot\"},\"ticker\":{\"id\":\"856cf993-6eed-4a55-bb9d-e08d68ed754a\",\"type\":\"BasicTicker\"}},\"id\":\"d048e1f6-7925-4951-9feb-331246c06127\",\"type\":\"Grid\"},{\"attributes\":{},\"id\":\"059d2a17-43d5-41f6-b4b9-2b369fcb7cc1\",\"type\":\"BasicTickFormatter\"},{\"attributes\":{\"active_drag\":\"auto\",\"active_scroll\":\"auto\",\"active_tap\":\"auto\",\"tools\":[{\"id\":\"aa064434-61fd-459f-9bcb-f9812b3cd8c3\",\"type\":\"PanTool\"},{\"id\":\"f51f69e2-be10-41f7-b900-038ca0c61d75\",\"type\":\"WheelZoomTool\"},{\"id\":\"7a227fe4-8c71-4c91-a85b-4274988f7ecd\",\"type\":\"BoxZoomTool\"},{\"id\":\"08d9d6c7-d506-494f-a67d-88b99d1b4113\",\"type\":\"SaveTool\"},{\"id\":\"80319af1-4f6a-4462-b5e4-6a3dcd3e075a\",\"type\":\"ResetTool\"},{\"id\":\"c9175203-f20a-4d3e-ad83-990f01199fef\",\"type\":\"HelpTool\"}]},\"id\":\"8018eb80-9fb9-4299-8556-3da95779dcfd\",\"type\":\"Toolbar\"},{\"attributes\":{},\"id\":\"76fdf93f-96e7-4464-9299-5b0b29ddf44b\",\"type\":\"ToolEvents\"},{\"attributes\":{\"plot\":{\"id\":\"95ab0af9-05d5-40dd-8b8d-f2a1206810ea\",\"subtype\":\"Chart\",\"type\":\"Plot\"}},\"id\":\"c9175203-f20a-4d3e-ad83-990f01199fef\",\"type\":\"HelpTool\"},{\"attributes\":{},\"id\":\"006eed12-94a5-436c-8dbe-e527c087abd1\",\"type\":\"BasicTickFormatter\"},{\"attributes\":{\"below\":[{\"id\":\"294a62ec-d11e-4023-8568-a0e80f7f9951\",\"type\":\"LinearAxis\"}],\"left\":[{\"id\":\"7f398446-ba80-4409-9ca5-81e2bfc4d45f\",\"type\":\"LinearAxis\"}],\"renderers\":[{\"id\":\"5ffaf6d2-022f-4222-b42a-4d4d7c10d8b1\",\"type\":\"BoxAnnotation\"},{\"id\":\"e1384cba-28fa-4d89-89a2-e0b7ba417688\",\"type\":\"GlyphRenderer\"},{\"id\":\"994c2479-dafd-4afb-827e-5eb15da6bf85\",\"type\":\"Legend\"},{\"id\":\"294a62ec-d11e-4023-8568-a0e80f7f9951\",\"type\":\"LinearAxis\"},{\"id\":\"7f398446-ba80-4409-9ca5-81e2bfc4d45f\",\"type\":\"LinearAxis\"},{\"id\":\"b1ea8d98-a601-4920-8f14-3a8dd12b3d22\",\"type\":\"Grid\"},{\"id\":\"d048e1f6-7925-4951-9feb-331246c06127\",\"type\":\"Grid\"}],\"title\":{\"id\":\"bc4af77e-3a03-4755-b8ee-23b9e7f066c3\",\"type\":\"Title\"},\"tool_events\":{\"id\":\"76fdf93f-96e7-4464-9299-5b0b29ddf44b\",\"type\":\"ToolEvents\"},\"toolbar\":{\"id\":\"8018eb80-9fb9-4299-8556-3da95779dcfd\",\"type\":\"Toolbar\"},\"x_mapper_type\":\"auto\",\"x_range\":{\"id\":\"39bba92e-c3b0-4e2e-898d-bb8f92af6139\",\"type\":\"Range1d\"},\"y_mapper_type\":\"auto\",\"y_range\":{\"id\":\"7ffee8e7-0c36-46bd-9d51-f96452ad3c5b\",\"type\":\"Range1d\"}},\"id\":\"95ab0af9-05d5-40dd-8b8d-f2a1206810ea\",\"subtype\":\"Chart\",\"type\":\"Plot\"},{\"attributes\":{\"overlay\":{\"id\":\"5ffaf6d2-022f-4222-b42a-4d4d7c10d8b1\",\"type\":\"BoxAnnotation\"},\"plot\":{\"id\":\"95ab0af9-05d5-40dd-8b8d-f2a1206810ea\",\"subtype\":\"Chart\",\"type\":\"Plot\"}},\"id\":\"7a227fe4-8c71-4c91-a85b-4274988f7ecd\",\"type\":\"BoxZoomTool\"},{\"attributes\":{\"axis_label\":\"index\",\"formatter\":{\"id\":\"059d2a17-43d5-41f6-b4b9-2b369fcb7cc1\",\"type\":\"BasicTickFormatter\"},\"plot\":{\"id\":\"95ab0af9-05d5-40dd-8b8d-f2a1206810ea\",\"subtype\":\"Chart\",\"type\":\"Plot\"},\"ticker\":{\"id\":\"27cf04dc-d025-42b1-a1f3-165458dbb5aa\",\"type\":\"BasicTicker\"}},\"id\":\"294a62ec-d11e-4023-8568-a0e80f7f9951\",\"type\":\"LinearAxis\"},{\"attributes\":{},\"id\":\"27cf04dc-d025-42b1-a1f3-165458dbb5aa\",\"type\":\"BasicTicker\"},{\"attributes\":{\"plot\":{\"id\":\"95ab0af9-05d5-40dd-8b8d-f2a1206810ea\",\"subtype\":\"Chart\",\"type\":\"Plot\"},\"ticker\":{\"id\":\"27cf04dc-d025-42b1-a1f3-165458dbb5aa\",\"type\":\"BasicTicker\"}},\"id\":\"b1ea8d98-a601-4920-8f14-3a8dd12b3d22\",\"type\":\"Grid\"},{\"attributes\":{\"line_color\":{\"value\":\"#f22c40\"},\"line_width\":{\"value\":2},\"x\":{\"field\":\"x_values\"},\"y\":{\"field\":\"y_values\"}},\"id\":\"82750b8f-9757-443d-9c0d-b8a2a6d793bf\",\"type\":\"Line\"},{\"attributes\":{\"axis_label\":\"Dollars\",\"formatter\":{\"id\":\"006eed12-94a5-436c-8dbe-e527c087abd1\",\"type\":\"BasicTickFormatter\"},\"plot\":{\"id\":\"95ab0af9-05d5-40dd-8b8d-f2a1206810ea\",\"subtype\":\"Chart\",\"type\":\"Plot\"},\"ticker\":{\"id\":\"856cf993-6eed-4a55-bb9d-e08d68ed754a\",\"type\":\"BasicTicker\"}},\"id\":\"7f398446-ba80-4409-9ca5-81e2bfc4d45f\",\"type\":\"LinearAxis\"}],\"root_ids\":[\"95ab0af9-05d5-40dd-8b8d-f2a1206810ea\"]},\"title\":\"Bokeh Application\",\"version\":\"0.12.2\"}};\n",
       "            var render_items = [{\"docid\":\"92cdbf7f-d9ef-4f74-a408-d6e451b7df9b\",\"elementid\":\"40739855-94f0-4eca-ba4e-eb70e55dc1fb\",\"modelid\":\"95ab0af9-05d5-40dd-8b8d-f2a1206810ea\"}];\n",
       "            \n",
       "            Bokeh.embed.embed_items(docs_json, render_items);\n",
       "        });\n",
       "      },\n",
       "      function(Bokeh) {\n",
       "      }\n",
       "    ];\n",
       "  \n",
       "    function run_inline_js() {\n",
       "      \n",
       "      if ((window.Bokeh !== undefined) || (force === \"1\")) {\n",
       "        for (var i = 0; i < inline_js.length; i++) {\n",
       "          inline_js[i](window.Bokeh);\n",
       "        }if (force === \"1\") {\n",
       "          display_loaded();\n",
       "        }} else if (Date.now() < window._bokeh_timeout) {\n",
       "        setTimeout(run_inline_js, 100);\n",
       "      } else if (!window._bokeh_failed_load) {\n",
       "        console.log(\"Bokeh: BokehJS failed to load within specified timeout.\");\n",
       "        window._bokeh_failed_load = true;\n",
       "      } else if (!force) {\n",
       "        var cell = $(\"#40739855-94f0-4eca-ba4e-eb70e55dc1fb\").parents('.cell').data().cell;\n",
       "        cell.output_area.append_execute_result(NB_LOAD_WARNING)\n",
       "      }\n",
       "  \n",
       "    }\n",
       "  \n",
       "    if (window._bokeh_is_loading === 0) {\n",
       "      console.log(\"Bokeh: BokehJS loaded, going straight to plotting\");\n",
       "      run_inline_js();\n",
       "    } else {\n",
       "      load_libs(js_urls, function() {\n",
       "        console.log(\"Bokeh: BokehJS plotting callback run at\", now());\n",
       "        run_inline_js();\n",
       "      });\n",
       "    }\n",
       "  }(this));\n",
       "</script>"
      ]
     },
     "metadata": {},
     "output_type": "display_data"
    }
   ],
   "source": [
    "# Chart\n",
    "line = Line(pd.Series(prop_revenue), title=\"Projected Property Tax Revenue Increase\", ylabel='Dollars')\n",
    "show(line)"
   ]
  },
  {
   "cell_type": "code",
   "execution_count": 76,
   "metadata": {
    "collapsed": false
   },
   "outputs": [],
   "source": [
    "# Capturable $$ \n",
    "df = pd.DataFrame([sales_revenue, prop_revenue]).T\n",
    "df['sales_revenue'] = df[0]\n",
    "df['prop_revenue'] = df[1]\n",
    "df['capturable_prop'] = (df['prop_revenue'] - total_prop_revenue_15) * percent_urban\n",
    "df['capturable_sales'] = (df['sales_revenue'] - total_sales_revenue_15) * percent_urban\n",
    "df['total_capture'] = df.capturable_prop + df.capturable_sales\n",
    "total_dollar_capture = df['total_capture'].sum()\n",
    "del(df[0])\n",
    "del(df[1])"
   ]
  },
  {
   "cell_type": "code",
   "execution_count": 77,
   "metadata": {
    "collapsed": false
   },
   "outputs": [
    {
     "data": {
      "text/html": [
       "<div>\n",
       "<table border=\"1\" class=\"dataframe\">\n",
       "  <thead>\n",
       "    <tr style=\"text-align: right;\">\n",
       "      <th></th>\n",
       "      <th>sales_revenue</th>\n",
       "      <th>prop_revenue</th>\n",
       "      <th>capturable_prop</th>\n",
       "      <th>capturable_sales</th>\n",
       "      <th>total_capture</th>\n",
       "    </tr>\n",
       "  </thead>\n",
       "  <tbody>\n",
       "    <tr>\n",
       "      <th>2015</th>\n",
       "      <td>1.115960e+09</td>\n",
       "      <td>5.682000e+09</td>\n",
       "      <td>0.000000e+00</td>\n",
       "      <td>0.000000e+00</td>\n",
       "      <td>0.000000e+00</td>\n",
       "    </tr>\n",
       "    <tr>\n",
       "      <th>2016</th>\n",
       "      <td>1.148323e+09</td>\n",
       "      <td>5.920644e+09</td>\n",
       "      <td>2.282391e+08</td>\n",
       "      <td>3.095182e+07</td>\n",
       "      <td>2.591909e+08</td>\n",
       "    </tr>\n",
       "    <tr>\n",
       "      <th>2017</th>\n",
       "      <td>1.181624e+09</td>\n",
       "      <td>6.169311e+09</td>\n",
       "      <td>4.660643e+08</td>\n",
       "      <td>6.280124e+07</td>\n",
       "      <td>5.288655e+08</td>\n",
       "    </tr>\n",
       "    <tr>\n",
       "      <th>2018</th>\n",
       "      <td>1.215891e+09</td>\n",
       "      <td>6.428422e+09</td>\n",
       "      <td>7.138781e+08</td>\n",
       "      <td>9.557429e+07</td>\n",
       "      <td>8.094524e+08</td>\n",
       "    </tr>\n",
       "    <tr>\n",
       "      <th>2019</th>\n",
       "      <td>1.251152e+09</td>\n",
       "      <td>6.698416e+09</td>\n",
       "      <td>9.721001e+08</td>\n",
       "      <td>1.292978e+08</td>\n",
       "      <td>1.101398e+09</td>\n",
       "    </tr>\n",
       "  </tbody>\n",
       "</table>\n",
       "</div>"
      ],
      "text/plain": [
       "      sales_revenue  prop_revenue  capturable_prop  capturable_sales  \\\n",
       "2015   1.115960e+09  5.682000e+09     0.000000e+00      0.000000e+00   \n",
       "2016   1.148323e+09  5.920644e+09     2.282391e+08      3.095182e+07   \n",
       "2017   1.181624e+09  6.169311e+09     4.660643e+08      6.280124e+07   \n",
       "2018   1.215891e+09  6.428422e+09     7.138781e+08      9.557429e+07   \n",
       "2019   1.251152e+09  6.698416e+09     9.721001e+08      1.292978e+08   \n",
       "\n",
       "      total_capture  \n",
       "2015   0.000000e+00  \n",
       "2016   2.591909e+08  \n",
       "2017   5.288655e+08  \n",
       "2018   8.094524e+08  \n",
       "2019   1.101398e+09  "
      ]
     },
     "execution_count": 77,
     "metadata": {},
     "output_type": "execute_result"
    }
   ],
   "source": [
    "df.head()"
   ]
  },
  {
   "cell_type": "code",
   "execution_count": 78,
   "metadata": {
    "collapsed": false
   },
   "outputs": [
    {
     "data": {
      "text/html": [
       "\n",
       "\n",
       "    <div class=\"bk-root\">\n",
       "        <div class=\"plotdiv\" id=\"d94a1b76-54bb-4590-9ca1-3d4a670a9dd1\"></div>\n",
       "    </div>\n",
       "<script type=\"text/javascript\">\n",
       "  \n",
       "  (function(global) {\n",
       "    function now() {\n",
       "      return new Date();\n",
       "    }\n",
       "  \n",
       "    var force = \"\";\n",
       "  \n",
       "    if (typeof (window._bokeh_onload_callbacks) === \"undefined\" || force !== \"\") {\n",
       "      window._bokeh_onload_callbacks = [];\n",
       "      window._bokeh_is_loading = undefined;\n",
       "    }\n",
       "  \n",
       "  \n",
       "    \n",
       "    if (typeof (window._bokeh_timeout) === \"undefined\" || force !== \"\") {\n",
       "      window._bokeh_timeout = Date.now() + 0;\n",
       "      window._bokeh_failed_load = false;\n",
       "    }\n",
       "  \n",
       "    var NB_LOAD_WARNING = {'data': {'text/html':\n",
       "       \"<div style='background-color: #fdd'>\\n\"+\n",
       "       \"<p>\\n\"+\n",
       "       \"BokehJS does not appear to have successfully loaded. If loading BokehJS from CDN, this \\n\"+\n",
       "       \"may be due to a slow or bad network connection. Possible fixes:\\n\"+\n",
       "       \"</p>\\n\"+\n",
       "       \"<ul>\\n\"+\n",
       "       \"<li>re-rerun `output_notebook()` to attempt to load from CDN again, or</li>\\n\"+\n",
       "       \"<li>use INLINE resources instead, as so:</li>\\n\"+\n",
       "       \"</ul>\\n\"+\n",
       "       \"<code>\\n\"+\n",
       "       \"from bokeh.resources import INLINE\\n\"+\n",
       "       \"output_notebook(resources=INLINE)\\n\"+\n",
       "       \"</code>\\n\"+\n",
       "       \"</div>\"}};\n",
       "  \n",
       "    function display_loaded() {\n",
       "      if (window.Bokeh !== undefined) {\n",
       "        Bokeh.$(\"#d94a1b76-54bb-4590-9ca1-3d4a670a9dd1\").text(\"BokehJS successfully loaded.\");\n",
       "      } else if (Date.now() < window._bokeh_timeout) {\n",
       "        setTimeout(display_loaded, 100)\n",
       "      }\n",
       "    }\n",
       "  \n",
       "    function run_callbacks() {\n",
       "      window._bokeh_onload_callbacks.forEach(function(callback) { callback() });\n",
       "      delete window._bokeh_onload_callbacks\n",
       "      console.info(\"Bokeh: all callbacks have finished\");\n",
       "    }\n",
       "  \n",
       "    function load_libs(js_urls, callback) {\n",
       "      window._bokeh_onload_callbacks.push(callback);\n",
       "      if (window._bokeh_is_loading > 0) {\n",
       "        console.log(\"Bokeh: BokehJS is being loaded, scheduling callback at\", now());\n",
       "        return null;\n",
       "      }\n",
       "      if (js_urls == null || js_urls.length === 0) {\n",
       "        run_callbacks();\n",
       "        return null;\n",
       "      }\n",
       "      console.log(\"Bokeh: BokehJS not loaded, scheduling load and callback at\", now());\n",
       "      window._bokeh_is_loading = js_urls.length;\n",
       "      for (var i = 0; i < js_urls.length; i++) {\n",
       "        var url = js_urls[i];\n",
       "        var s = document.createElement('script');\n",
       "        s.src = url;\n",
       "        s.async = false;\n",
       "        s.onreadystatechange = s.onload = function() {\n",
       "          window._bokeh_is_loading--;\n",
       "          if (window._bokeh_is_loading === 0) {\n",
       "            console.log(\"Bokeh: all BokehJS libraries loaded\");\n",
       "            run_callbacks()\n",
       "          }\n",
       "        };\n",
       "        s.onerror = function() {\n",
       "          console.warn(\"failed to load library \" + url);\n",
       "        };\n",
       "        console.log(\"Bokeh: injecting script tag for BokehJS library: \", url);\n",
       "        document.getElementsByTagName(\"head\")[0].appendChild(s);\n",
       "      }\n",
       "    };var element = document.getElementById(\"d94a1b76-54bb-4590-9ca1-3d4a670a9dd1\");\n",
       "    if (element == null) {\n",
       "      console.log(\"Bokeh: ERROR: autoload.js configured with elementid 'd94a1b76-54bb-4590-9ca1-3d4a670a9dd1' but no matching script tag was found. \")\n",
       "      return false;\n",
       "    }\n",
       "  \n",
       "    var js_urls = [];\n",
       "  \n",
       "    var inline_js = [\n",
       "      function(Bokeh) {\n",
       "        Bokeh.$(function() {\n",
       "            var docs_json = {\"b39b65d2-08e8-4f0d-b4b5-2558b3fdb3d6\":{\"roots\":{\"references\":[{\"attributes\":{\"plot\":{\"id\":\"ffea1a04-0667-4bba-9b0a-eae2e288d735\",\"subtype\":\"Chart\",\"type\":\"Plot\"}},\"id\":\"b7ac1ee6-959e-40be-aee2-771aac5ccfb9\",\"type\":\"PanTool\"},{\"attributes\":{\"bottom_units\":\"screen\",\"fill_alpha\":{\"value\":0.5},\"fill_color\":{\"value\":\"lightgrey\"},\"left_units\":\"screen\",\"level\":\"overlay\",\"line_alpha\":{\"value\":1.0},\"line_color\":{\"value\":\"black\"},\"line_dash\":[4,4],\"line_width\":{\"value\":2},\"plot\":null,\"render_mode\":\"css\",\"right_units\":\"screen\",\"top_units\":\"screen\"},\"id\":\"cbead99e-20d4-4fcd-aadb-c5f1225840b8\",\"type\":\"BoxAnnotation\"},{\"attributes\":{},\"id\":\"2e61f554-92ad-4588-a837-7bc1b79b5448\",\"type\":\"BasicTicker\"},{\"attributes\":{\"format\":\"\\u20180,0\\u2019\"},\"id\":\"a96105cd-dac7-4259-a881-8ca241ed66fc\",\"type\":\"NumeralTickFormatter\"},{\"attributes\":{\"overlay\":{\"id\":\"cbead99e-20d4-4fcd-aadb-c5f1225840b8\",\"type\":\"BoxAnnotation\"},\"plot\":{\"id\":\"ffea1a04-0667-4bba-9b0a-eae2e288d735\",\"subtype\":\"Chart\",\"type\":\"Plot\"}},\"id\":\"d191a6ea-4e8c-4f84-99b3-f07838c52dee\",\"type\":\"BoxZoomTool\"},{\"attributes\":{\"callback\":null,\"end\":2035.9,\"start\":2013.1},\"id\":\"8de38fb6-c516-4ca4-a9e5-30fd6f1b6ffe\",\"type\":\"Range1d\"},{\"attributes\":{\"plot\":{\"id\":\"ffea1a04-0667-4bba-9b0a-eae2e288d735\",\"subtype\":\"Chart\",\"type\":\"Plot\"},\"ticker\":{\"id\":\"2e61f554-92ad-4588-a837-7bc1b79b5448\",\"type\":\"BasicTicker\"}},\"id\":\"99ee16be-39e4-46a0-a3ec-9e245c5bea4d\",\"type\":\"Grid\"},{\"attributes\":{\"plot\":null,\"text\":\"Annual Capture Vales for LA County Maxiumum EIFD 20 Year\"},\"id\":\"57db19a9-a948-4416-ad2a-c078b2172448\",\"type\":\"Title\"},{\"attributes\":{\"axis_label\":\"index\",\"formatter\":{\"id\":\"cfae6797-0efb-4b42-a040-bf5897412a4e\",\"type\":\"BasicTickFormatter\"},\"plot\":{\"id\":\"ffea1a04-0667-4bba-9b0a-eae2e288d735\",\"subtype\":\"Chart\",\"type\":\"Plot\"},\"ticker\":{\"id\":\"2e61f554-92ad-4588-a837-7bc1b79b5448\",\"type\":\"BasicTicker\"}},\"id\":\"41f8c7f7-68fe-46f9-bc95-670b5e59f9fc\",\"type\":\"LinearAxis\"},{\"attributes\":{\"plot\":{\"id\":\"ffea1a04-0667-4bba-9b0a-eae2e288d735\",\"subtype\":\"Chart\",\"type\":\"Plot\"}},\"id\":\"e541660a-0862-4c0e-83cf-97899960dd2e\",\"type\":\"SaveTool\"},{\"attributes\":{},\"id\":\"0d072f65-0b51-45ff-8ab3-27064deea93d\",\"type\":\"BasicTicker\"},{\"attributes\":{\"line_color\":{\"value\":\"#f22c40\"},\"line_width\":{\"value\":2},\"x\":{\"field\":\"x_values\"},\"y\":{\"field\":\"y_values\"}},\"id\":\"69112f34-7c94-461a-8c2f-6d4110a5f9e6\",\"type\":\"Line\"},{\"attributes\":{\"below\":[{\"id\":\"41f8c7f7-68fe-46f9-bc95-670b5e59f9fc\",\"type\":\"LinearAxis\"}],\"left\":[{\"id\":\"0cdb99fc-5ab4-488e-bf04-fd1831a5e92e\",\"type\":\"LinearAxis\"}],\"renderers\":[{\"id\":\"cbead99e-20d4-4fcd-aadb-c5f1225840b8\",\"type\":\"BoxAnnotation\"},{\"id\":\"d85a3c86-7212-4a76-890a-32da4dc3e459\",\"type\":\"GlyphRenderer\"},{\"id\":\"71bc5167-119b-4967-83dc-76d752d20b1f\",\"type\":\"Legend\"},{\"id\":\"41f8c7f7-68fe-46f9-bc95-670b5e59f9fc\",\"type\":\"LinearAxis\"},{\"id\":\"0cdb99fc-5ab4-488e-bf04-fd1831a5e92e\",\"type\":\"LinearAxis\"},{\"id\":\"99ee16be-39e4-46a0-a3ec-9e245c5bea4d\",\"type\":\"Grid\"},{\"id\":\"bf048d40-c176-4052-97dc-e65a1cbbe085\",\"type\":\"Grid\"}],\"title\":{\"id\":\"57db19a9-a948-4416-ad2a-c078b2172448\",\"type\":\"Title\"},\"tool_events\":{\"id\":\"0000db64-3a3e-4808-9318-a81c9b9b177b\",\"type\":\"ToolEvents\"},\"toolbar\":{\"id\":\"afcfc64a-58a4-4203-aaa8-6c770e750972\",\"type\":\"Toolbar\"},\"x_mapper_type\":\"auto\",\"x_range\":{\"id\":\"8de38fb6-c516-4ca4-a9e5-30fd6f1b6ffe\",\"type\":\"Range1d\"},\"y_mapper_type\":\"auto\",\"y_range\":{\"id\":\"87fca095-1812-4834-b2cc-66dbb0eb4ce6\",\"type\":\"Range1d\"}},\"id\":\"ffea1a04-0667-4bba-9b0a-eae2e288d735\",\"subtype\":\"Chart\",\"type\":\"Plot\"},{\"attributes\":{\"plot\":{\"id\":\"ffea1a04-0667-4bba-9b0a-eae2e288d735\",\"subtype\":\"Chart\",\"type\":\"Plot\"}},\"id\":\"d98e8d2d-2c64-40ad-9a5c-79a386632fa3\",\"type\":\"WheelZoomTool\"},{\"attributes\":{\"plot\":{\"id\":\"ffea1a04-0667-4bba-9b0a-eae2e288d735\",\"subtype\":\"Chart\",\"type\":\"Plot\"}},\"id\":\"08a6af4f-2bb4-4744-ba3b-109bca1673bf\",\"type\":\"HelpTool\"},{\"attributes\":{\"callback\":null,\"end\":7931619894.361235,\"start\":-721056354.0328395},\"id\":\"87fca095-1812-4834-b2cc-66dbb0eb4ce6\",\"type\":\"Range1d\"},{\"attributes\":{\"axis_label\":\"value\",\"formatter\":{\"id\":\"a96105cd-dac7-4259-a881-8ca241ed66fc\",\"type\":\"NumeralTickFormatter\"},\"plot\":{\"id\":\"ffea1a04-0667-4bba-9b0a-eae2e288d735\",\"subtype\":\"Chart\",\"type\":\"Plot\"},\"ticker\":{\"id\":\"0d072f65-0b51-45ff-8ab3-27064deea93d\",\"type\":\"BasicTicker\"}},\"id\":\"0cdb99fc-5ab4-488e-bf04-fd1831a5e92e\",\"type\":\"LinearAxis\"},{\"attributes\":{\"active_drag\":\"auto\",\"active_scroll\":\"auto\",\"active_tap\":\"auto\",\"tools\":[{\"id\":\"b7ac1ee6-959e-40be-aee2-771aac5ccfb9\",\"type\":\"PanTool\"},{\"id\":\"d98e8d2d-2c64-40ad-9a5c-79a386632fa3\",\"type\":\"WheelZoomTool\"},{\"id\":\"d191a6ea-4e8c-4f84-99b3-f07838c52dee\",\"type\":\"BoxZoomTool\"},{\"id\":\"e541660a-0862-4c0e-83cf-97899960dd2e\",\"type\":\"SaveTool\"},{\"id\":\"2e78bb39-f859-4923-84fe-29df750228d6\",\"type\":\"ResetTool\"},{\"id\":\"08a6af4f-2bb4-4744-ba3b-109bca1673bf\",\"type\":\"HelpTool\"}]},\"id\":\"afcfc64a-58a4-4203-aaa8-6c770e750972\",\"type\":\"Toolbar\"},{\"attributes\":{},\"id\":\"0000db64-3a3e-4808-9318-a81c9b9b177b\",\"type\":\"ToolEvents\"},{\"attributes\":{\"legends\":[[\"total_capture\",[{\"id\":\"d85a3c86-7212-4a76-890a-32da4dc3e459\",\"type\":\"GlyphRenderer\"}]]],\"location\":\"top_left\",\"plot\":{\"id\":\"ffea1a04-0667-4bba-9b0a-eae2e288d735\",\"subtype\":\"Chart\",\"type\":\"Plot\"}},\"id\":\"71bc5167-119b-4967-83dc-76d752d20b1f\",\"type\":\"Legend\"},{\"attributes\":{\"plot\":{\"id\":\"ffea1a04-0667-4bba-9b0a-eae2e288d735\",\"subtype\":\"Chart\",\"type\":\"Plot\"}},\"id\":\"2e78bb39-f859-4923-84fe-29df750228d6\",\"type\":\"ResetTool\"},{\"attributes\":{},\"id\":\"cfae6797-0efb-4b42-a040-bf5897412a4e\",\"type\":\"BasicTickFormatter\"},{\"attributes\":{\"dimension\":1,\"plot\":{\"id\":\"ffea1a04-0667-4bba-9b0a-eae2e288d735\",\"subtype\":\"Chart\",\"type\":\"Plot\"},\"ticker\":{\"id\":\"0d072f65-0b51-45ff-8ab3-27064deea93d\",\"type\":\"BasicTicker\"}},\"id\":\"bf048d40-c176-4052-97dc-e65a1cbbe085\",\"type\":\"Grid\"},{\"attributes\":{\"data_source\":{\"id\":\"eb4cbca0-7788-474e-bf2b-260df477d432\",\"type\":\"ColumnDataSource\"},\"glyph\":{\"id\":\"69112f34-7c94-461a-8c2f-6d4110a5f9e6\",\"type\":\"Line\"},\"hover_glyph\":null,\"nonselection_glyph\":null,\"selection_glyph\":null},\"id\":\"d85a3c86-7212-4a76-890a-32da4dc3e459\",\"type\":\"GlyphRenderer\"},{\"attributes\":{\"callback\":null,\"column_names\":[\"x_values\",\"y_values\"],\"data\":{\"chart_index\":[{\"series\":\"total_capture\"},{\"series\":\"total_capture\"},{\"series\":\"total_capture\"},{\"series\":\"total_capture\"},{\"series\":\"total_capture\"},{\"series\":\"total_capture\"},{\"series\":\"total_capture\"},{\"series\":\"total_capture\"},{\"series\":\"total_capture\"},{\"series\":\"total_capture\"},{\"series\":\"total_capture\"},{\"series\":\"total_capture\"},{\"series\":\"total_capture\"},{\"series\":\"total_capture\"},{\"series\":\"total_capture\"},{\"series\":\"total_capture\"},{\"series\":\"total_capture\"},{\"series\":\"total_capture\"},{\"series\":\"total_capture\"},{\"series\":\"total_capture\"}],\"series\":[\"total_capture\",\"total_capture\",\"total_capture\",\"total_capture\",\"total_capture\",\"total_capture\",\"total_capture\",\"total_capture\",\"total_capture\",\"total_capture\",\"total_capture\",\"total_capture\",\"total_capture\",\"total_capture\",\"total_capture\",\"total_capture\",\"total_capture\",\"total_capture\",\"total_capture\",\"total_capture\"],\"x_values\":[2015,2016,2017,2018,2019,2020,2021,2022,2023,2024,2025,2026,2027,2028,2029,2030,2031,2032,2033,2034],\"y_values\":[0.0,259190938.9192332,528865523.647925,809452398.4749404,1101397872.3530648,1405166651.001385,1721242599.4714031,2050129536.4480646,2392352061.6101046,2748456417.429447,3119011386.8471165,3504609228.3232007,3905866649.821103,4323425823.351447,4757955441.7691555,5210151819.587875,5680740039.649838,6170475147.566135,6680143395.922389,7210563540.328395]}},\"id\":\"eb4cbca0-7788-474e-bf2b-260df477d432\",\"type\":\"ColumnDataSource\"}],\"root_ids\":[\"ffea1a04-0667-4bba-9b0a-eae2e288d735\"]},\"title\":\"Bokeh Application\",\"version\":\"0.12.2\"}};\n",
       "            var render_items = [{\"docid\":\"b39b65d2-08e8-4f0d-b4b5-2558b3fdb3d6\",\"elementid\":\"d94a1b76-54bb-4590-9ca1-3d4a670a9dd1\",\"modelid\":\"ffea1a04-0667-4bba-9b0a-eae2e288d735\"}];\n",
       "            \n",
       "            Bokeh.embed.embed_items(docs_json, render_items);\n",
       "        });\n",
       "      },\n",
       "      function(Bokeh) {\n",
       "      }\n",
       "    ];\n",
       "  \n",
       "    function run_inline_js() {\n",
       "      \n",
       "      if ((window.Bokeh !== undefined) || (force === \"1\")) {\n",
       "        for (var i = 0; i < inline_js.length; i++) {\n",
       "          inline_js[i](window.Bokeh);\n",
       "        }if (force === \"1\") {\n",
       "          display_loaded();\n",
       "        }} else if (Date.now() < window._bokeh_timeout) {\n",
       "        setTimeout(run_inline_js, 100);\n",
       "      } else if (!window._bokeh_failed_load) {\n",
       "        console.log(\"Bokeh: BokehJS failed to load within specified timeout.\");\n",
       "        window._bokeh_failed_load = true;\n",
       "      } else if (!force) {\n",
       "        var cell = $(\"#d94a1b76-54bb-4590-9ca1-3d4a670a9dd1\").parents('.cell').data().cell;\n",
       "        cell.output_area.append_execute_result(NB_LOAD_WARNING)\n",
       "      }\n",
       "  \n",
       "    }\n",
       "  \n",
       "    if (window._bokeh_is_loading === 0) {\n",
       "      console.log(\"Bokeh: BokehJS loaded, going straight to plotting\");\n",
       "      run_inline_js();\n",
       "    } else {\n",
       "      load_libs(js_urls, function() {\n",
       "        console.log(\"Bokeh: BokehJS plotting callback run at\", now());\n",
       "        run_inline_js();\n",
       "      });\n",
       "    }\n",
       "  }(this));\n",
       "</script>"
      ]
     },
     "metadata": {},
     "output_type": "display_data"
    }
   ],
   "source": [
    "l = Line(df['total_capture'], title=\"Annual Capture Vales for LA County Maxiumum EIFD 20 Year\")\n",
    "l.yaxis[0].formatter = NumeralTickFormatter(format=\"‘0,0’\")\n",
    "show(l)"
   ]
  },
  {
   "cell_type": "markdown",
   "metadata": {
    "variables": {
     " \"{:,}\".format(total_dollar_capture) ": "63,579,196,472.52222"
    }
   },
   "source": [
    "In total, a 20 year EFID for all possible areas in LA County would generate {{ \"{:,}\".format(total_dollar_capture) }}. Yes, that is __63 billion dollars__ over 20 years. "
   ]
  },
  {
   "cell_type": "markdown",
   "metadata": {},
   "source": [
    "## How much housing would that fund \n",
    "* percentage for affordable \n",
    "* percentage for local income \n",
    "\n",
    "Resources \n",
    "\n",
    "* [2014 State Cost Study](http://www.hcd.ca.gov/policy-research/plans-reports/docs/FinalAffordableHousingCostStudyReport-with-coverv2.pdf) \n",
    "\n",
    "**Average cost is 315K Per Unit** "
   ]
  },
  {
   "cell_type": "code",
   "execution_count": 84,
   "metadata": {
    "collapsed": false
   },
   "outputs": [],
   "source": [
    "# Discount for Bond Rate - best guess is 4.5% avg interest rate on bond. \n",
    "discount_rate = .045\n",
    "intial_value = total_dollar_capture / (discount_rate + 1) ** 20"
   ]
  },
  {
   "cell_type": "markdown",
   "metadata": {
    "variables": {
     " \"{:,}\".format(intial_value) ": "26,362,659,841.814632"
    }
   },
   "source": [
    "    Value initially captured would be {{ \"{:,}\".format(intial_value) }}. Aka, 26 billion dollars. "
   ]
  },
  {
   "cell_type": "code",
   "execution_count": 80,
   "metadata": {
    "collapsed": true
   },
   "outputs": [],
   "source": [
    "# Set asides for local income, affordable \n",
    "total_set_aide = .2\n",
    "v_low_bucket = .06\n",
    "low_bucket = .09\n",
    "any_type_bucket = .05 "
   ]
  },
  {
   "cell_type": "code",
   "execution_count": 85,
   "metadata": {
    "collapsed": true
   },
   "outputs": [],
   "source": [
    "def calculate_number_of_unit(dollars_to_be_spent): \n",
    "    return dollars_to_be_spent / 315000"
   ]
  },
  {
   "cell_type": "code",
   "execution_count": 89,
   "metadata": {
    "collapsed": false
   },
   "outputs": [],
   "source": [
    "unit_totals = {}\n",
    "unit_totals['total_units'] = calculate_number_of_unit(total_set_aide * intial_value)\n",
    "unit_totals['v_low_units'] = calculate_number_of_unit(v_low_bucket * intial_value)\n",
    "unit_totals['low_units'] = calculate_number_of_unit(low_bucket * intial_value)"
   ]
  },
  {
   "cell_type": "code",
   "execution_count": 90,
   "metadata": {
    "collapsed": false
   },
   "outputs": [
    {
     "data": {
      "text/plain": [
       "{'low_units': 7532.1885262327514,\n",
       " 'total_units': 16738.196724961672,\n",
       " 'v_low_units': 5021.4590174885016}"
      ]
     },
     "execution_count": 90,
     "metadata": {},
     "output_type": "execute_result"
    }
   ],
   "source": [
    "unit_totals"
   ]
  },
  {
   "cell_type": "code",
   "execution_count": null,
   "metadata": {
    "collapsed": true
   },
   "outputs": [],
   "source": []
  }
 ],
 "metadata": {
  "kernelspec": {
   "display_name": "Python 3",
   "language": "python",
   "name": "python3"
  },
  "language_info": {
   "codemirror_mode": {
    "name": "ipython",
    "version": 3
   },
   "file_extension": ".py",
   "mimetype": "text/x-python",
   "name": "python",
   "nbconvert_exporter": "python",
   "pygments_lexer": "ipython3",
   "version": "3.5.3"
  }
 },
 "nbformat": 4,
 "nbformat_minor": 2
}
