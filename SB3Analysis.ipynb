{
 "cells": [
  {
   "cell_type": "markdown",
   "metadata": {
    "collapsed": false
   },
   "source": [
    "# SB 3 Analysis \n",
    "\n",
    "Bill Description \n",
    "\n",
    "```\n",
    "This bill would enact the Affordable Housing Bond Act of 2018, which, if adopted, would authorize the issuance of bonds in the amount of $3,000,000,000 pursuant to the State General Obligation Bond Law. Proceeds from the sale of these bonds would be used to finance various existing housing programs, as well as infill infrastructure financing and affordable housing matching grant programs, as provided.\n",
    "```\n",
    "\n",
    "Source: [CA Legislative Info](https://leginfo.legislature.ca.gov/faces/billNavClient.xhtml?bill_id=201720180SB3) \n",
    "\n",
    "Additionally, \n",
    "\n",
    ">>\n",
    "(a) California is experiencing an extreme housing shortage with 2.2 million extremely low income and very low income renter households competing for only 664,000 affordable rental homes. This leaves more than 1.54 million of California’s lowest income households without access to affordable housing.\n",
    "\n"
   ]
  },
  {
   "cell_type": "code",
   "execution_count": 5,
   "metadata": {
    "collapsed": false
   },
   "outputs": [],
   "source": [
    "total_spend = 3000000000"
   ]
  },
  {
   "cell_type": "code",
   "execution_count": 6,
   "metadata": {
    "collapsed": true
   },
   "outputs": [],
   "source": [
    "cost_per_unit = 315000"
   ]
  },
  {
   "cell_type": "code",
   "execution_count": 10,
   "metadata": {
    "collapsed": false
   },
   "outputs": [
    {
     "name": "stdout",
     "output_type": "stream",
     "text": [
      "Total Number of Units Statewide:  9523.809523809523\n"
     ]
    }
   ],
   "source": [
    "print(\"Total Number of Units Statewide: \", total_spend / cost_per_unit)"
   ]
  },
  {
   "cell_type": "markdown",
   "metadata": {},
   "source": [
    "This number can be nuanced by seeing how each funding amount would translate into units. "
   ]
  },
  {
   "cell_type": "code",
   "execution_count": null,
   "metadata": {
    "collapsed": true
   },
   "outputs": [],
   "source": []
  }
 ],
 "metadata": {
  "kernelspec": {
   "display_name": "Python 3",
   "language": "python",
   "name": "python3"
  },
  "language_info": {
   "codemirror_mode": {
    "name": "ipython",
    "version": 3
   },
   "file_extension": ".py",
   "mimetype": "text/x-python",
   "name": "python",
   "nbconvert_exporter": "python",
   "pygments_lexer": "ipython3",
   "version": "3.5.3"
  }
 },
 "nbformat": 4,
 "nbformat_minor": 2
}
