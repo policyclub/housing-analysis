{
 "cells": [
  {
   "cell_type": "markdown",
   "metadata": {
    "collapsed": false
   },
   "source": [
    "# SB 3 Analysis \n",
    "\n",
    "Bill Description \n",
    "\n",
    "```\n",
    "This bill would enact the Affordable Housing Bond Act of 2018, which, if adopted, would authorize the issuance of bonds in the amount of $3,000,000,000 pursuant to the State General Obligation Bond Law. Proceeds from the sale of these bonds would be used to finance various existing housing programs, as well as infill infrastructure financing and affordable housing matching grant programs, as provided.\n",
    "```\n",
    "\n",
    "Source: [CA Legislative Info](https://leginfo.legislature.ca.gov/faces/billNavClient.xhtml?bill_id=201720180SB3) \n",
    "\n",
    "Additionally, \n",
    "\n",
    ">>\n",
    "(a) California is experiencing an extreme housing shortage with 2.2 million extremely low income and very low income renter households competing for only 664,000 affordable rental homes. This leaves more than 1.54 million of California’s lowest income households without access to affordable housing.\n",
    "\n"
   ]
  },
  {
   "cell_type": "code",
   "execution_count": 3,
   "metadata": {
    "collapsed": false
   },
   "outputs": [
    {
     "ename": "ImportError",
     "evalue": "No module named 'AB1568Research'",
     "output_type": "error",
     "traceback": [
      "\u001b[0;31m---------------------------------------------------------------------------\u001b[0m",
      "\u001b[0;31mImportError\u001b[0m                               Traceback (most recent call last)",
      "\u001b[0;32m<ipython-input-3-f082d20c1b8b>\u001b[0m in \u001b[0;36m<module>\u001b[0;34m()\u001b[0m\n\u001b[0;32m----> 1\u001b[0;31m \u001b[0;32mimport\u001b[0m \u001b[0mAB1568Research\u001b[0m\u001b[0;34m\u001b[0m\u001b[0m\n\u001b[0m",
      "\u001b[0;31mImportError\u001b[0m: No module named 'AB1568Research'"
     ]
    }
   ],
   "source": [
    "import AB1568Research"
   ]
  },
  {
   "cell_type": "code",
   "execution_count": null,
   "metadata": {
    "collapsed": true
   },
   "outputs": [],
   "source": []
  }
 ],
 "metadata": {
  "kernelspec": {
   "display_name": "Python 3",
   "language": "python",
   "name": "python3"
  },
  "language_info": {
   "codemirror_mode": {
    "name": "ipython",
    "version": 3
   },
   "file_extension": ".py",
   "mimetype": "text/x-python",
   "name": "python",
   "nbconvert_exporter": "python",
   "pygments_lexer": "ipython3",
   "version": "3.5.3"
  }
 },
 "nbformat": 4,
 "nbformat_minor": 2
}
